{
  "nbformat": 4,
  "nbformat_minor": 5,
  "metadata": {
    "kernelspec": {
      "display_name": "Python 3",
      "language": "python",
      "name": "python3"
    },
    "language_info": {
      "codemirror_mode": {
        "name": "ipython",
        "version": 3
      },
      "file_extension": ".py",
      "mimetype": "text/x-python",
      "name": "python",
      "nbconvert_exporter": "python",
      "pygments_lexer": "ipython3",
      "version": "3.7.10"
    },
    "papermill": {
      "default_parameters": {},
      "duration": 88.531396,
      "end_time": "2021-07-31T18:47:24.083065",
      "environment_variables": {},
      "exception": null,
      "input_path": "__notebook__.ipynb",
      "output_path": "__notebook__.ipynb",
      "parameters": {},
      "start_time": "2021-07-31T18:45:55.551669",
      "version": "2.3.3"
    },
    "colab": {
      "name": "telco-customer-churn-7-model.ipynb",
      "provenance": []
    }
  },
  "cells": [
    {
      "cell_type": "code",
      "metadata": {
        "_cell_guid": "b1076dfc-b9ad-4769-8c92-a6c4dae69d19",
        "_uuid": "8f2839f25d086af736a60e9eeb907d3b93b6e0e5",
        "execution": {
          "iopub.execute_input": "2021-07-31T18:46:05.253323Z",
          "iopub.status.busy": "2021-07-31T18:46:05.252639Z",
          "iopub.status.idle": "2021-07-31T18:46:05.264361Z",
          "shell.execute_reply": "2021-07-31T18:46:05.264969Z",
          "shell.execute_reply.started": "2021-07-31T18:45:19.155370Z"
        },
        "papermill": {
          "duration": 0.101058,
          "end_time": "2021-07-31T18:46:05.265233",
          "exception": false,
          "start_time": "2021-07-31T18:46:05.164175",
          "status": "completed"
        },
        "tags": [],
        "id": "d79981a3"
      },
      "source": [
        "import numpy as np\n",
        "import pandas as pd \n",
        "import seaborn as sns"
      ],
      "id": "d79981a3",
      "execution_count": null,
      "outputs": []
    },
    {
      "cell_type": "code",
      "metadata": {
        "colab": {
          "base_uri": "https://localhost:8080/"
        },
        "id": "i4D9kRsI6Pry",
        "outputId": "f5cd9a5a-84a7-45ab-d498-9508d1c883ed"
      },
      "source": [
        "from google.colab import drive \n",
        "drive.mount('/content/drive')"
      ],
      "id": "i4D9kRsI6Pry",
      "execution_count": null,
      "outputs": [
        {
          "output_type": "stream",
          "text": [
            "Drive already mounted at /content/drive; to attempt to forcibly remount, call drive.mount(\"/content/drive\", force_remount=True).\n"
          ],
          "name": "stdout"
        }
      ]
    },
    {
      "cell_type": "code",
      "metadata": {
        "execution": {
          "iopub.execute_input": "2021-07-31T18:46:05.935559Z",
          "iopub.status.busy": "2021-07-31T18:46:05.934817Z",
          "iopub.status.idle": "2021-07-31T18:46:06.174222Z",
          "shell.execute_reply": "2021-07-31T18:46:06.173681Z",
          "shell.execute_reply.started": "2021-07-31T18:45:19.176579Z"
        },
        "papermill": {
          "duration": 0.355576,
          "end_time": "2021-07-31T18:46:06.174387",
          "exception": false,
          "start_time": "2021-07-31T18:46:05.818811",
          "status": "completed"
        },
        "tags": [],
        "colab": {
          "base_uri": "https://localhost:8080/",
          "height": 307
        },
        "id": "59a35b70",
        "outputId": "3aa0e176-511e-415a-adcb-cfe3ce80784f"
      },
      "source": [
        "main_df = pd.read_csv('/content/drive/My Drive/Colab Notebooks/WA_Fn-UseC_-Telco-Customer-Churn.csv')\n",
        "df = main_df.copy()\n",
        "df.head()"
      ],
      "id": "59a35b70",
      "execution_count": null,
      "outputs": [
        {
          "output_type": "execute_result",
          "data": {
            "text/html": [
              "<div>\n",
              "<style scoped>\n",
              "    .dataframe tbody tr th:only-of-type {\n",
              "        vertical-align: middle;\n",
              "    }\n",
              "\n",
              "    .dataframe tbody tr th {\n",
              "        vertical-align: top;\n",
              "    }\n",
              "\n",
              "    .dataframe thead th {\n",
              "        text-align: right;\n",
              "    }\n",
              "</style>\n",
              "<table border=\"1\" class=\"dataframe\">\n",
              "  <thead>\n",
              "    <tr style=\"text-align: right;\">\n",
              "      <th></th>\n",
              "      <th>customerID</th>\n",
              "      <th>gender</th>\n",
              "      <th>SeniorCitizen</th>\n",
              "      <th>Partner</th>\n",
              "      <th>Dependents</th>\n",
              "      <th>tenure</th>\n",
              "      <th>PhoneService</th>\n",
              "      <th>MultipleLines</th>\n",
              "      <th>InternetService</th>\n",
              "      <th>OnlineSecurity</th>\n",
              "      <th>OnlineBackup</th>\n",
              "      <th>DeviceProtection</th>\n",
              "      <th>TechSupport</th>\n",
              "      <th>StreamingTV</th>\n",
              "      <th>StreamingMovies</th>\n",
              "      <th>Contract</th>\n",
              "      <th>PaperlessBilling</th>\n",
              "      <th>PaymentMethod</th>\n",
              "      <th>MonthlyCharges</th>\n",
              "      <th>TotalCharges</th>\n",
              "      <th>Churn</th>\n",
              "    </tr>\n",
              "  </thead>\n",
              "  <tbody>\n",
              "    <tr>\n",
              "      <th>0</th>\n",
              "      <td>7590-VHVEG</td>\n",
              "      <td>Female</td>\n",
              "      <td>0</td>\n",
              "      <td>Yes</td>\n",
              "      <td>No</td>\n",
              "      <td>1</td>\n",
              "      <td>No</td>\n",
              "      <td>No phone service</td>\n",
              "      <td>DSL</td>\n",
              "      <td>No</td>\n",
              "      <td>Yes</td>\n",
              "      <td>No</td>\n",
              "      <td>No</td>\n",
              "      <td>No</td>\n",
              "      <td>No</td>\n",
              "      <td>Month-to-month</td>\n",
              "      <td>Yes</td>\n",
              "      <td>Electronic check</td>\n",
              "      <td>29.85</td>\n",
              "      <td>29.85</td>\n",
              "      <td>No</td>\n",
              "    </tr>\n",
              "    <tr>\n",
              "      <th>1</th>\n",
              "      <td>5575-GNVDE</td>\n",
              "      <td>Male</td>\n",
              "      <td>0</td>\n",
              "      <td>No</td>\n",
              "      <td>No</td>\n",
              "      <td>34</td>\n",
              "      <td>Yes</td>\n",
              "      <td>No</td>\n",
              "      <td>DSL</td>\n",
              "      <td>Yes</td>\n",
              "      <td>No</td>\n",
              "      <td>Yes</td>\n",
              "      <td>No</td>\n",
              "      <td>No</td>\n",
              "      <td>No</td>\n",
              "      <td>One year</td>\n",
              "      <td>No</td>\n",
              "      <td>Mailed check</td>\n",
              "      <td>56.95</td>\n",
              "      <td>1889.5</td>\n",
              "      <td>No</td>\n",
              "    </tr>\n",
              "    <tr>\n",
              "      <th>2</th>\n",
              "      <td>3668-QPYBK</td>\n",
              "      <td>Male</td>\n",
              "      <td>0</td>\n",
              "      <td>No</td>\n",
              "      <td>No</td>\n",
              "      <td>2</td>\n",
              "      <td>Yes</td>\n",
              "      <td>No</td>\n",
              "      <td>DSL</td>\n",
              "      <td>Yes</td>\n",
              "      <td>Yes</td>\n",
              "      <td>No</td>\n",
              "      <td>No</td>\n",
              "      <td>No</td>\n",
              "      <td>No</td>\n",
              "      <td>Month-to-month</td>\n",
              "      <td>Yes</td>\n",
              "      <td>Mailed check</td>\n",
              "      <td>53.85</td>\n",
              "      <td>108.15</td>\n",
              "      <td>Yes</td>\n",
              "    </tr>\n",
              "    <tr>\n",
              "      <th>3</th>\n",
              "      <td>7795-CFOCW</td>\n",
              "      <td>Male</td>\n",
              "      <td>0</td>\n",
              "      <td>No</td>\n",
              "      <td>No</td>\n",
              "      <td>45</td>\n",
              "      <td>No</td>\n",
              "      <td>No phone service</td>\n",
              "      <td>DSL</td>\n",
              "      <td>Yes</td>\n",
              "      <td>No</td>\n",
              "      <td>Yes</td>\n",
              "      <td>Yes</td>\n",
              "      <td>No</td>\n",
              "      <td>No</td>\n",
              "      <td>One year</td>\n",
              "      <td>No</td>\n",
              "      <td>Bank transfer (automatic)</td>\n",
              "      <td>42.30</td>\n",
              "      <td>1840.75</td>\n",
              "      <td>No</td>\n",
              "    </tr>\n",
              "    <tr>\n",
              "      <th>4</th>\n",
              "      <td>9237-HQITU</td>\n",
              "      <td>Female</td>\n",
              "      <td>0</td>\n",
              "      <td>No</td>\n",
              "      <td>No</td>\n",
              "      <td>2</td>\n",
              "      <td>Yes</td>\n",
              "      <td>No</td>\n",
              "      <td>Fiber optic</td>\n",
              "      <td>No</td>\n",
              "      <td>No</td>\n",
              "      <td>No</td>\n",
              "      <td>No</td>\n",
              "      <td>No</td>\n",
              "      <td>No</td>\n",
              "      <td>Month-to-month</td>\n",
              "      <td>Yes</td>\n",
              "      <td>Electronic check</td>\n",
              "      <td>70.70</td>\n",
              "      <td>151.65</td>\n",
              "      <td>Yes</td>\n",
              "    </tr>\n",
              "  </tbody>\n",
              "</table>\n",
              "</div>"
            ],
            "text/plain": [
              "   customerID  gender  SeniorCitizen  ... MonthlyCharges TotalCharges  Churn\n",
              "0  7590-VHVEG  Female              0  ...          29.85        29.85     No\n",
              "1  5575-GNVDE    Male              0  ...          56.95       1889.5     No\n",
              "2  3668-QPYBK    Male              0  ...          53.85       108.15    Yes\n",
              "3  7795-CFOCW    Male              0  ...          42.30      1840.75     No\n",
              "4  9237-HQITU  Female              0  ...          70.70       151.65    Yes\n",
              "\n",
              "[5 rows x 21 columns]"
            ]
          },
          "metadata": {},
          "execution_count": 339
        }
      ]
    },
    {
      "cell_type": "code",
      "metadata": {
        "colab": {
          "base_uri": "https://localhost:8080/",
          "height": 363
        },
        "id": "wTLjaxPI9H9U",
        "outputId": "ad1fab1c-0557-4952-fbd9-da1725930f9b"
      },
      "source": [
        "sns.heatmap(main_df.isnull())"
      ],
      "id": "wTLjaxPI9H9U",
      "execution_count": null,
      "outputs": [
        {
          "output_type": "execute_result",
          "data": {
            "text/plain": [
              "<matplotlib.axes._subplots.AxesSubplot at 0x7f641769d810>"
            ]
          },
          "metadata": {},
          "execution_count": 340
        },
        {
          "output_type": "display_data",
          "data": {
            "image/png": "[encoded data removed]",
            "text/plain": [
              "<Figure size 432x288 with 2 Axes>"
            ]
          },
          "metadata": {
            "needs_background": "light"
          }
        }
      ]
    },
    {
      "cell_type": "code",
      "metadata": {
        "execution": {
          "iopub.execute_input": "2021-07-31T18:46:06.622577Z",
          "iopub.status.busy": "2021-07-31T18:46:06.621978Z",
          "iopub.status.idle": "2021-07-31T18:46:09.305665Z",
          "shell.execute_reply": "2021-07-31T18:46:09.305094Z",
          "shell.execute_reply.started": "2021-07-31T18:45:19.350045Z"
        },
        "papermill": {
          "duration": 2.799052,
          "end_time": "2021-07-31T18:46:09.305809",
          "exception": false,
          "start_time": "2021-07-31T18:46:06.506757",
          "status": "completed"
        },
        "tags": [],
        "colab": {
          "base_uri": "https://localhost:8080/",
          "height": 17
        },
        "id": "4772c7be",
        "outputId": "fcffa55d-d1be-4364-c798-076a0e170d3c"
      },
      "source": [
        "import numpy as np\n",
        "import matplotlib.pyplot as plt\n",
        "import seaborn as sns\n",
        "from plotly.offline import plot, iplot, init_notebook_mode\n",
        "init_notebook_mode(connected=True)\n",
        "import plotly.express as px\n",
        "import plotly.graph_objects as go\n",
        "import warnings\n",
        "warnings.filterwarnings('ignore')"
      ],
      "id": "4772c7be",
      "execution_count": null,
      "outputs": [
        {
          "output_type": "display_data",
          "data": {
            "text/html": [
              "        <script type=\"text/javascript\">\n",
              "        window.PlotlyConfig = {MathJaxConfig: 'local'};\n",
              "        if (window.MathJax) {MathJax.Hub.Config({SVG: {font: \"STIX-Web\"}});}\n",
              "        if (typeof require !== 'undefined') {\n",
              "        require.undef(\"plotly\");\n",
              "        requirejs.config({\n",
              "            paths: {\n",
              "                'plotly': ['https://cdn.plot.ly/plotly-latest.min']\n",
              "            }\n",
              "        });\n",
              "        require(['plotly'], function(Plotly) {\n",
              "            window._Plotly = Plotly;\n",
              "        });\n",
              "        }\n",
              "        </script>\n",
              "        "
            ]
          },
          "metadata": {}
        }
      ]
    },
    {
      "cell_type": "code",
      "metadata": {
        "execution": {
          "iopub.execute_input": "2021-07-31T18:46:09.982735Z",
          "iopub.status.busy": "2021-07-31T18:46:09.982057Z",
          "iopub.status.idle": "2021-07-31T18:46:09.985318Z",
          "shell.execute_reply": "2021-07-31T18:46:09.985804Z",
          "shell.execute_reply.started": "2021-07-31T18:45:21.449613Z"
        },
        "papermill": {
          "duration": 0.121798,
          "end_time": "2021-07-31T18:46:09.985979",
          "exception": false,
          "start_time": "2021-07-31T18:46:09.864181",
          "status": "completed"
        },
        "tags": [],
        "colab": {
          "base_uri": "https://localhost:8080/"
        },
        "id": "fed9cb69",
        "outputId": "cac18f3a-5924-4345-9643-77767b62b9d8"
      },
      "source": [
        "# Shape of dataframe\n",
        "\n",
        "df.shape"
      ],
      "id": "fed9cb69",
      "execution_count": null,
      "outputs": [
        {
          "output_type": "execute_result",
          "data": {
            "text/plain": [
              "(7043, 21)"
            ]
          },
          "metadata": {},
          "execution_count": 342
        }
      ]
    },
    {
      "cell_type": "code",
      "metadata": {
        "execution": {
          "iopub.execute_input": "2021-07-31T18:46:10.216319Z",
          "iopub.status.busy": "2021-07-31T18:46:10.215536Z",
          "iopub.status.idle": "2021-07-31T18:46:10.220595Z",
          "shell.execute_reply": "2021-07-31T18:46:10.219914Z",
          "shell.execute_reply.started": "2021-07-31T18:45:21.456308Z"
        },
        "papermill": {
          "duration": 0.122844,
          "end_time": "2021-07-31T18:46:10.220736",
          "exception": false,
          "start_time": "2021-07-31T18:46:10.097892",
          "status": "completed"
        },
        "tags": [],
        "colab": {
          "base_uri": "https://localhost:8080/"
        },
        "id": "76c0ff85",
        "outputId": "7b4fe44d-ccc0-4264-848e-c34ed90fa095"
      },
      "source": [
        "# List of all columns\n",
        "\n",
        "cols = list(df.columns)\n",
        "print(cols)"
      ],
      "id": "76c0ff85",
      "execution_count": null,
      "outputs": [
        {
          "output_type": "stream",
          "text": [
            "['customerID', 'gender', 'SeniorCitizen', 'Partner', 'Dependents', 'tenure', 'PhoneService', 'MultipleLines', 'InternetService', 'OnlineSecurity', 'OnlineBackup', 'DeviceProtection', 'TechSupport', 'StreamingTV', 'StreamingMovies', 'Contract', 'PaperlessBilling', 'PaymentMethod', 'MonthlyCharges', 'TotalCharges', 'Churn']\n"
          ],
          "name": "stdout"
        }
      ]
    },
    {
      "cell_type": "code",
      "metadata": {
        "execution": {
          "iopub.execute_input": "2021-07-31T18:46:10.463795Z",
          "iopub.status.busy": "2021-07-31T18:46:10.451164Z",
          "iopub.status.idle": "2021-07-31T18:46:10.485890Z",
          "shell.execute_reply": "2021-07-31T18:46:10.485194Z",
          "shell.execute_reply.started": "2021-07-31T18:45:21.473462Z"
        },
        "papermill": {
          "duration": 0.152065,
          "end_time": "2021-07-31T18:46:10.486234",
          "exception": false,
          "start_time": "2021-07-31T18:46:10.334169",
          "status": "completed"
        },
        "tags": [],
        "colab": {
          "base_uri": "https://localhost:8080/"
        },
        "id": "33e6af58",
        "outputId": "e1b8f399-3828-4247-fd6b-0a1862ecd582"
      },
      "source": [
        "# Basic Information about the dataframe\n",
        "\n",
        "df.info()"
      ],
      "id": "33e6af58",
      "execution_count": null,
      "outputs": [
        {
          "output_type": "stream",
          "text": [
            "<class 'pandas.core.frame.DataFrame'>\n",
            "RangeIndex: 7043 entries, 0 to 7042\n",
            "Data columns (total 21 columns):\n",
            " #   Column            Non-Null Count  Dtype  \n",
            "---  ------            --------------  -----  \n",
            " 0   customerID        7043 non-null   object \n",
            " 1   gender            7043 non-null   object \n",
            " 2   SeniorCitizen     7043 non-null   int64  \n",
            " 3   Partner           7043 non-null   object \n",
            " 4   Dependents        7043 non-null   object \n",
            " 5   tenure            7043 non-null   int64  \n",
            " 6   PhoneService      7043 non-null   object \n",
            " 7   MultipleLines     7043 non-null   object \n",
            " 8   InternetService   7043 non-null   object \n",
            " 9   OnlineSecurity    7043 non-null   object \n",
            " 10  OnlineBackup      7043 non-null   object \n",
            " 11  DeviceProtection  7043 non-null   object \n",
            " 12  TechSupport       7043 non-null   object \n",
            " 13  StreamingTV       7043 non-null   object \n",
            " 14  StreamingMovies   7043 non-null   object \n",
            " 15  Contract          7043 non-null   object \n",
            " 16  PaperlessBilling  7043 non-null   object \n",
            " 17  PaymentMethod     7043 non-null   object \n",
            " 18  MonthlyCharges    7043 non-null   float64\n",
            " 19  TotalCharges      7043 non-null   object \n",
            " 20  Churn             7043 non-null   object \n",
            "dtypes: float64(1), int64(2), object(18)\n",
            "memory usage: 1.1+ MB\n"
          ],
          "name": "stdout"
        }
      ]
    },
    {
      "cell_type": "code",
      "metadata": {
        "colab": {
          "base_uri": "https://localhost:8080/",
          "height": 1000
        },
        "id": "yjvdu9D37RAh",
        "outputId": "072dd329-32ca-4ee6-b8da-97ef5af8955d"
      },
      "source": [
        "for col in cols:\n",
        "  print('********************************************Description of the', col, 'column*******************************************')\n",
        "  display(df[col].describe())"
      ],
      "id": "yjvdu9D37RAh",
      "execution_count": null,
      "outputs": [
        {
          "output_type": "stream",
          "text": [
            "********************************************Description of the customerID column*******************************************\n"
          ],
          "name": "stdout"
        },
        {
          "output_type": "display_data",
          "data": {
            "text/plain": [
              "count           7043\n",
              "unique          7043\n",
              "top       4654-GGUII\n",
              "freq               1\n",
              "Name: customerID, dtype: object"
            ]
          },
          "metadata": {}
        },
        {
          "output_type": "stream",
          "text": [
            "********************************************Description of the gender column*******************************************\n"
          ],
          "name": "stdout"
        },
        {
          "output_type": "display_data",
          "data": {
            "text/plain": [
              "count     7043\n",
              "unique       2\n",
              "top       Male\n",
              "freq      3555\n",
              "Name: gender, dtype: object"
            ]
          },
          "metadata": {}
        },
        {
          "output_type": "stream",
          "text": [
            "********************************************Description of the SeniorCitizen column*******************************************\n"
          ],
          "name": "stdout"
        },
        {
          "output_type": "display_data",
          "data": {
            "text/plain": [
              "count    7043.000000\n",
              "mean        0.162147\n",
              "std         0.368612\n",
              "min         0.000000\n",
              "25%         0.000000\n",
              "50%         0.000000\n",
              "75%         0.000000\n",
              "max         1.000000\n",
              "Name: SeniorCitizen, dtype: float64"
            ]
          },
          "metadata": {}
        },
        {
          "output_type": "stream",
          "text": [
            "********************************************Description of the Partner column*******************************************\n"
          ],
          "name": "stdout"
        },
        {
          "output_type": "display_data",
          "data": {
            "text/plain": [
              "count     7043\n",
              "unique       2\n",
              "top         No\n",
              "freq      3641\n",
              "Name: Partner, dtype: object"
            ]
          },
          "metadata": {}
        },
        {
          "output_type": "stream",
          "text": [
            "********************************************Description of the Dependents column*******************************************\n"
          ],
          "name": "stdout"
        },
        {
          "output_type": "display_data",
          "data": {
            "text/plain": [
              "count     7043\n",
              "unique       2\n",
              "top         No\n",
              "freq      4933\n",
              "Name: Dependents, dtype: object"
            ]
          },
          "metadata": {}
        },
        {
          "output_type": "stream",
          "text": [
            "********************************************Description of the tenure column*******************************************\n"
          ],
          "name": "stdout"
        },
        {
          "output_type": "display_data",
          "data": {
            "text/plain": [
              "count    7043.000000\n",
              "mean       32.371149\n",
              "std        24.559481\n",
              "min         0.000000\n",
              "25%         9.000000\n",
              "50%        29.000000\n",
              "75%        55.000000\n",
              "max        72.000000\n",
              "Name: tenure, dtype: float64"
            ]
          },
          "metadata": {}
        },
        {
          "output_type": "stream",
          "text": [
            "********************************************Description of the PhoneService column*******************************************\n"
          ],
          "name": "stdout"
        },
        {
          "output_type": "display_data",
          "data": {
            "text/plain": [
              "count     7043\n",
              "unique       2\n",
              "top        Yes\n",
              "freq      6361\n",
              "Name: PhoneService, dtype: object"
            ]
          },
          "metadata": {}
        },
        {
          "output_type": "stream",
          "text": [
            "********************************************Description of the MultipleLines column*******************************************\n"
          ],
          "name": "stdout"
        },
        {
          "output_type": "display_data",
          "data": {
            "text/plain": [
              "count     7043\n",
              "unique       3\n",
              "top         No\n",
              "freq      3390\n",
              "Name: MultipleLines, dtype: object"
            ]
          },
          "metadata": {}
        },
        {
          "output_type": "stream",
          "text": [
            "********************************************Description of the InternetService column*******************************************\n"
          ],
          "name": "stdout"
        },
        {
          "output_type": "display_data",
          "data": {
            "text/plain": [
              "count            7043\n",
              "unique              3\n",
              "top       Fiber optic\n",
              "freq             3096\n",
              "Name: InternetService, dtype: object"
            ]
          },
          "metadata": {}
        },
        {
          "output_type": "stream",
          "text": [
            "********************************************Description of the OnlineSecurity column*******************************************\n"
          ],
          "name": "stdout"
        },
        {
          "output_type": "display_data",
          "data": {
            "text/plain": [
              "count     7043\n",
              "unique       3\n",
              "top         No\n",
              "freq      3498\n",
              "Name: OnlineSecurity, dtype: object"
            ]
          },
          "metadata": {}
        },
        {
          "output_type": "stream",
          "text": [
            "********************************************Description of the OnlineBackup column*******************************************\n"
          ],
          "name": "stdout"
        },
        {
          "output_type": "display_data",
          "data": {
            "text/plain": [
              "count     7043\n",
              "unique       3\n",
              "top         No\n",
              "freq      3088\n",
              "Name: OnlineBackup, dtype: object"
            ]
          },
          "metadata": {}
        },
        {
          "output_type": "stream",
          "text": [
            "********************************************Description of the DeviceProtection column*******************************************\n"
          ],
          "name": "stdout"
        },
        {
          "output_type": "display_data",
          "data": {
            "text/plain": [
              "count     7043\n",
              "unique       3\n",
              "top         No\n",
              "freq      3095\n",
              "Name: DeviceProtection, dtype: object"
            ]
          },
          "metadata": {}
        },
        {
          "output_type": "stream",
          "text": [
            "********************************************Description of the TechSupport column*******************************************\n"
          ],
          "name": "stdout"
        },
        {
          "output_type": "display_data",
          "data": {
            "text/plain": [
              "count     7043\n",
              "unique       3\n",
              "top         No\n",
              "freq      3473\n",
              "Name: TechSupport, dtype: object"
            ]
          },
          "metadata": {}
        },
        {
          "output_type": "stream",
          "text": [
            "********************************************Description of the StreamingTV column*******************************************\n"
          ],
          "name": "stdout"
        },
        {
          "output_type": "display_data",
          "data": {
            "text/plain": [
              "count     7043\n",
              "unique       3\n",
              "top         No\n",
              "freq      2810\n",
              "Name: StreamingTV, dtype: object"
            ]
          },
          "metadata": {}
        },
        {
          "output_type": "stream",
          "text": [
            "********************************************Description of the StreamingMovies column*******************************************\n"
          ],
          "name": "stdout"
        },
        {
          "output_type": "display_data",
          "data": {
            "text/plain": [
              "count     7043\n",
              "unique       3\n",
              "top         No\n",
              "freq      2785\n",
              "Name: StreamingMovies, dtype: object"
            ]
          },
          "metadata": {}
        },
        {
          "output_type": "stream",
          "text": [
            "********************************************Description of the Contract column*******************************************\n"
          ],
          "name": "stdout"
        },
        {
          "output_type": "display_data",
          "data": {
            "text/plain": [
              "count               7043\n",
              "unique                 3\n",
              "top       Month-to-month\n",
              "freq                3875\n",
              "Name: Contract, dtype: object"
            ]
          },
          "metadata": {}
        },
        {
          "output_type": "stream",
          "text": [
            "********************************************Description of the PaperlessBilling column*******************************************\n"
          ],
          "name": "stdout"
        },
        {
          "output_type": "display_data",
          "data": {
            "text/plain": [
              "count     7043\n",
              "unique       2\n",
              "top        Yes\n",
              "freq      4171\n",
              "Name: PaperlessBilling, dtype: object"
            ]
          },
          "metadata": {}
        },
        {
          "output_type": "stream",
          "text": [
            "********************************************Description of the PaymentMethod column*******************************************\n"
          ],
          "name": "stdout"
        },
        {
          "output_type": "display_data",
          "data": {
            "text/plain": [
              "count                 7043\n",
              "unique                   4\n",
              "top       Electronic check\n",
              "freq                  2365\n",
              "Name: PaymentMethod, dtype: object"
            ]
          },
          "metadata": {}
        },
        {
          "output_type": "stream",
          "text": [
            "********************************************Description of the MonthlyCharges column*******************************************\n"
          ],
          "name": "stdout"
        },
        {
          "output_type": "display_data",
          "data": {
            "text/plain": [
              "count    7043.000000\n",
              "mean       64.761692\n",
              "std        30.090047\n",
              "min        18.250000\n",
              "25%        35.500000\n",
              "50%        70.350000\n",
              "75%        89.850000\n",
              "max       118.750000\n",
              "Name: MonthlyCharges, dtype: float64"
            ]
          },
          "metadata": {}
        },
        {
          "output_type": "stream",
          "text": [
            "********************************************Description of the TotalCharges column*******************************************\n"
          ],
          "name": "stdout"
        },
        {
          "output_type": "display_data",
          "data": {
            "text/plain": [
              "count     7043\n",
              "unique    6531\n",
              "top           \n",
              "freq        11\n",
              "Name: TotalCharges, dtype: object"
            ]
          },
          "metadata": {}
        },
        {
          "output_type": "stream",
          "text": [
            "********************************************Description of the Churn column*******************************************\n"
          ],
          "name": "stdout"
        },
        {
          "output_type": "display_data",
          "data": {
            "text/plain": [
              "count     7043\n",
              "unique       2\n",
              "top         No\n",
              "freq      5174\n",
              "Name: Churn, dtype: object"
            ]
          },
          "metadata": {}
        }
      ]
    },
    {
      "cell_type": "code",
      "metadata": {
        "execution": {
          "iopub.execute_input": "2021-07-31T18:46:10.636510Z",
          "iopub.status.busy": "2021-07-31T18:46:10.635982Z",
          "iopub.status.idle": "2021-07-31T18:46:10.683660Z",
          "shell.execute_reply": "2021-07-31T18:46:10.684026Z",
          "shell.execute_reply.started": "2021-07-31T18:45:21.516132Z"
        },
        "papermill": {
          "duration": 0.123461,
          "end_time": "2021-07-31T18:46:10.684165",
          "exception": false,
          "start_time": "2021-07-31T18:46:10.560704",
          "status": "completed"
        },
        "tags": [],
        "colab": {
          "base_uri": "https://localhost:8080/"
        },
        "id": "e1d79963",
        "outputId": "7b211b23-fc7c-4d20-c3c3-2bd4583eb5e5"
      },
      "source": [
        "# List of all features with number of unique values present in them\n",
        "\n",
        "df.nunique()"
      ],
      "id": "e1d79963",
      "execution_count": null,
      "outputs": [
        {
          "output_type": "execute_result",
          "data": {
            "text/plain": [
              "customerID          7043\n",
              "gender                 2\n",
              "SeniorCitizen          2\n",
              "Partner                2\n",
              "Dependents             2\n",
              "tenure                73\n",
              "PhoneService           2\n",
              "MultipleLines          3\n",
              "InternetService        3\n",
              "OnlineSecurity         3\n",
              "OnlineBackup           3\n",
              "DeviceProtection       3\n",
              "TechSupport            3\n",
              "StreamingTV            3\n",
              "StreamingMovies        3\n",
              "Contract               3\n",
              "PaperlessBilling       2\n",
              "PaymentMethod          4\n",
              "MonthlyCharges      1585\n",
              "TotalCharges        6531\n",
              "Churn                  2\n",
              "dtype: int64"
            ]
          },
          "metadata": {},
          "execution_count": 346
        }
      ]
    },
    {
      "cell_type": "code",
      "metadata": {
        "execution": {
          "iopub.execute_input": "2021-07-31T18:46:10.843013Z",
          "iopub.status.busy": "2021-07-31T18:46:10.840228Z",
          "iopub.status.idle": "2021-07-31T18:46:10.862965Z",
          "shell.execute_reply": "2021-07-31T18:46:10.863567Z",
          "shell.execute_reply.started": "2021-07-31T18:45:21.550536Z"
        },
        "papermill": {
          "duration": 0.103759,
          "end_time": "2021-07-31T18:46:10.863749",
          "exception": false,
          "start_time": "2021-07-31T18:46:10.759990",
          "status": "completed"
        },
        "tags": [],
        "colab": {
          "base_uri": "https://localhost:8080/",
          "height": 295
        },
        "id": "32146e93",
        "outputId": "e7f08217-12a7-42a5-d64e-ef209b4c8ed9"
      },
      "source": [
        "# Statistical measure of dataset\n",
        "\n",
        "df.describe()"
      ],
      "id": "32146e93",
      "execution_count": null,
      "outputs": [
        {
          "output_type": "execute_result",
          "data": {
            "text/html": [
              "<div>\n",
              "<style scoped>\n",
              "    .dataframe tbody tr th:only-of-type {\n",
              "        vertical-align: middle;\n",
              "    }\n",
              "\n",
              "    .dataframe tbody tr th {\n",
              "        vertical-align: top;\n",
              "    }\n",
              "\n",
              "    .dataframe thead th {\n",
              "        text-align: right;\n",
              "    }\n",
              "</style>\n",
              "<table border=\"1\" class=\"dataframe\">\n",
              "  <thead>\n",
              "    <tr style=\"text-align: right;\">\n",
              "      <th></th>\n",
              "      <th>SeniorCitizen</th>\n",
              "      <th>tenure</th>\n",
              "      <th>MonthlyCharges</th>\n",
              "    </tr>\n",
              "  </thead>\n",
              "  <tbody>\n",
              "    <tr>\n",
              "      <th>count</th>\n",
              "      <td>7043.000000</td>\n",
              "      <td>7043.000000</td>\n",
              "      <td>7043.000000</td>\n",
              "    </tr>\n",
              "    <tr>\n",
              "      <th>mean</th>\n",
              "      <td>0.162147</td>\n",
              "      <td>32.371149</td>\n",
              "      <td>64.761692</td>\n",
              "    </tr>\n",
              "    <tr>\n",
              "      <th>std</th>\n",
              "      <td>0.368612</td>\n",
              "      <td>24.559481</td>\n",
              "      <td>30.090047</td>\n",
              "    </tr>\n",
              "    <tr>\n",
              "      <th>min</th>\n",
              "      <td>0.000000</td>\n",
              "      <td>0.000000</td>\n",
              "      <td>18.250000</td>\n",
              "    </tr>\n",
              "    <tr>\n",
              "      <th>25%</th>\n",
              "      <td>0.000000</td>\n",
              "      <td>9.000000</td>\n",
              "      <td>35.500000</td>\n",
              "    </tr>\n",
              "    <tr>\n",
              "      <th>50%</th>\n",
              "      <td>0.000000</td>\n",
              "      <td>29.000000</td>\n",
              "      <td>70.350000</td>\n",
              "    </tr>\n",
              "    <tr>\n",
              "      <th>75%</th>\n",
              "      <td>0.000000</td>\n",
              "      <td>55.000000</td>\n",
              "      <td>89.850000</td>\n",
              "    </tr>\n",
              "    <tr>\n",
              "      <th>max</th>\n",
              "      <td>1.000000</td>\n",
              "      <td>72.000000</td>\n",
              "      <td>118.750000</td>\n",
              "    </tr>\n",
              "  </tbody>\n",
              "</table>\n",
              "</div>"
            ],
            "text/plain": [
              "       SeniorCitizen       tenure  MonthlyCharges\n",
              "count    7043.000000  7043.000000     7043.000000\n",
              "mean        0.162147    32.371149       64.761692\n",
              "std         0.368612    24.559481       30.090047\n",
              "min         0.000000     0.000000       18.250000\n",
              "25%         0.000000     9.000000       35.500000\n",
              "50%         0.000000    29.000000       70.350000\n",
              "75%         0.000000    55.000000       89.850000\n",
              "max         1.000000    72.000000      118.750000"
            ]
          },
          "metadata": {},
          "execution_count": 347
        }
      ]
    },
    {
      "cell_type": "code",
      "metadata": {
        "execution": {
          "iopub.execute_input": "2021-07-31T18:46:11.119577Z",
          "iopub.status.busy": "2021-07-31T18:46:11.118835Z",
          "iopub.status.idle": "2021-07-31T18:46:11.123918Z",
          "shell.execute_reply": "2021-07-31T18:46:11.123273Z",
          "shell.execute_reply.started": "2021-07-31T18:45:21.573527Z"
        },
        "papermill": {
          "duration": 0.14591,
          "end_time": "2021-07-31T18:46:11.124053",
          "exception": false,
          "start_time": "2021-07-31T18:46:10.978143",
          "status": "completed"
        },
        "tags": [],
        "colab": {
          "base_uri": "https://localhost:8080/",
          "height": 290
        },
        "id": "81a570e5",
        "outputId": "386d5586-6274-40ad-ebb9-d653926c14e4"
      },
      "source": [
        "# We are dropping CustomerID because it will not make any contribution in prediction.\n",
        "\n",
        "df = df.drop('customerID', axis='columns')\n",
        "df.head()"
      ],
      "id": "81a570e5",
      "execution_count": null,
      "outputs": [
        {
          "output_type": "execute_result",
          "data": {
            "text/html": [
              "<div>\n",
              "<style scoped>\n",
              "    .dataframe tbody tr th:only-of-type {\n",
              "        vertical-align: middle;\n",
              "    }\n",
              "\n",
              "    .dataframe tbody tr th {\n",
              "        vertical-align: top;\n",
              "    }\n",
              "\n",
              "    .dataframe thead th {\n",
              "        text-align: right;\n",
              "    }\n",
              "</style>\n",
              "<table border=\"1\" class=\"dataframe\">\n",
              "  <thead>\n",
              "    <tr style=\"text-align: right;\">\n",
              "      <th></th>\n",
              "      <th>gender</th>\n",
              "      <th>SeniorCitizen</th>\n",
              "      <th>Partner</th>\n",
              "      <th>Dependents</th>\n",
              "      <th>tenure</th>\n",
              "      <th>PhoneService</th>\n",
              "      <th>MultipleLines</th>\n",
              "      <th>InternetService</th>\n",
              "      <th>OnlineSecurity</th>\n",
              "      <th>OnlineBackup</th>\n",
              "      <th>DeviceProtection</th>\n",
              "      <th>TechSupport</th>\n",
              "      <th>StreamingTV</th>\n",
              "      <th>StreamingMovies</th>\n",
              "      <th>Contract</th>\n",
              "      <th>PaperlessBilling</th>\n",
              "      <th>PaymentMethod</th>\n",
              "      <th>MonthlyCharges</th>\n",
              "      <th>TotalCharges</th>\n",
              "      <th>Churn</th>\n",
              "    </tr>\n",
              "  </thead>\n",
              "  <tbody>\n",
              "    <tr>\n",
              "      <th>0</th>\n",
              "      <td>Female</td>\n",
              "      <td>0</td>\n",
              "      <td>Yes</td>\n",
              "      <td>No</td>\n",
              "      <td>1</td>\n",
              "      <td>No</td>\n",
              "      <td>No phone service</td>\n",
              "      <td>DSL</td>\n",
              "      <td>No</td>\n",
              "      <td>Yes</td>\n",
              "      <td>No</td>\n",
              "      <td>No</td>\n",
              "      <td>No</td>\n",
              "      <td>No</td>\n",
              "      <td>Month-to-month</td>\n",
              "      <td>Yes</td>\n",
              "      <td>Electronic check</td>\n",
              "      <td>29.85</td>\n",
              "      <td>29.85</td>\n",
              "      <td>No</td>\n",
              "    </tr>\n",
              "    <tr>\n",
              "      <th>1</th>\n",
              "      <td>Male</td>\n",
              "      <td>0</td>\n",
              "      <td>No</td>\n",
              "      <td>No</td>\n",
              "      <td>34</td>\n",
              "      <td>Yes</td>\n",
              "      <td>No</td>\n",
              "      <td>DSL</td>\n",
              "      <td>Yes</td>\n",
              "      <td>No</td>\n",
              "      <td>Yes</td>\n",
              "      <td>No</td>\n",
              "      <td>No</td>\n",
              "      <td>No</td>\n",
              "      <td>One year</td>\n",
              "      <td>No</td>\n",
              "      <td>Mailed check</td>\n",
              "      <td>56.95</td>\n",
              "      <td>1889.5</td>\n",
              "      <td>No</td>\n",
              "    </tr>\n",
              "    <tr>\n",
              "      <th>2</th>\n",
              "      <td>Male</td>\n",
              "      <td>0</td>\n",
              "      <td>No</td>\n",
              "      <td>No</td>\n",
              "      <td>2</td>\n",
              "      <td>Yes</td>\n",
              "      <td>No</td>\n",
              "      <td>DSL</td>\n",
              "      <td>Yes</td>\n",
              "      <td>Yes</td>\n",
              "      <td>No</td>\n",
              "      <td>No</td>\n",
              "      <td>No</td>\n",
              "      <td>No</td>\n",
              "      <td>Month-to-month</td>\n",
              "      <td>Yes</td>\n",
              "      <td>Mailed check</td>\n",
              "      <td>53.85</td>\n",
              "      <td>108.15</td>\n",
              "      <td>Yes</td>\n",
              "    </tr>\n",
              "    <tr>\n",
              "      <th>3</th>\n",
              "      <td>Male</td>\n",
              "      <td>0</td>\n",
              "      <td>No</td>\n",
              "      <td>No</td>\n",
              "      <td>45</td>\n",
              "      <td>No</td>\n",
              "      <td>No phone service</td>\n",
              "      <td>DSL</td>\n",
              "      <td>Yes</td>\n",
              "      <td>No</td>\n",
              "      <td>Yes</td>\n",
              "      <td>Yes</td>\n",
              "      <td>No</td>\n",
              "      <td>No</td>\n",
              "      <td>One year</td>\n",
              "      <td>No</td>\n",
              "      <td>Bank transfer (automatic)</td>\n",
              "      <td>42.30</td>\n",
              "      <td>1840.75</td>\n",
              "      <td>No</td>\n",
              "    </tr>\n",
              "    <tr>\n",
              "      <th>4</th>\n",
              "      <td>Female</td>\n",
              "      <td>0</td>\n",
              "      <td>No</td>\n",
              "      <td>No</td>\n",
              "      <td>2</td>\n",
              "      <td>Yes</td>\n",
              "      <td>No</td>\n",
              "      <td>Fiber optic</td>\n",
              "      <td>No</td>\n",
              "      <td>No</td>\n",
              "      <td>No</td>\n",
              "      <td>No</td>\n",
              "      <td>No</td>\n",
              "      <td>No</td>\n",
              "      <td>Month-to-month</td>\n",
              "      <td>Yes</td>\n",
              "      <td>Electronic check</td>\n",
              "      <td>70.70</td>\n",
              "      <td>151.65</td>\n",
              "      <td>Yes</td>\n",
              "    </tr>\n",
              "  </tbody>\n",
              "</table>\n",
              "</div>"
            ],
            "text/plain": [
              "   gender  SeniorCitizen Partner  ... MonthlyCharges  TotalCharges Churn\n",
              "0  Female              0     Yes  ...          29.85         29.85    No\n",
              "1    Male              0      No  ...          56.95        1889.5    No\n",
              "2    Male              0      No  ...          53.85        108.15   Yes\n",
              "3    Male              0      No  ...          42.30       1840.75    No\n",
              "4  Female              0      No  ...          70.70        151.65   Yes\n",
              "\n",
              "[5 rows x 20 columns]"
            ]
          },
          "metadata": {},
          "execution_count": 348
        }
      ]
    },
    {
      "cell_type": "code",
      "metadata": {
        "execution": {
          "iopub.execute_input": "2021-07-31T18:46:11.359677Z",
          "iopub.status.busy": "2021-07-31T18:46:11.359020Z",
          "iopub.status.idle": "2021-07-31T18:46:11.365447Z",
          "shell.execute_reply": "2021-07-31T18:46:11.364787Z",
          "shell.execute_reply.started": "2021-07-31T18:45:21.598924Z"
        },
        "papermill": {
          "duration": 0.126527,
          "end_time": "2021-07-31T18:46:11.365586",
          "exception": false,
          "start_time": "2021-07-31T18:46:11.239059",
          "status": "completed"
        },
        "tags": [],
        "colab": {
          "base_uri": "https://localhost:8080/"
        },
        "id": "cc0d6596",
        "outputId": "f2b672c9-c68a-4a6d-e802-1ad78711f86f"
      },
      "source": [
        "# Here totalcharges are object types so we need to change it into numeric format\n",
        "df['TotalCharges'].dtype"
      ],
      "id": "cc0d6596",
      "execution_count": null,
      "outputs": [
        {
          "output_type": "execute_result",
          "data": {
            "text/plain": [
              "dtype('O')"
            ]
          },
          "metadata": {},
          "execution_count": 349
        }
      ]
    },
    {
      "cell_type": "code",
      "metadata": {
        "execution": {
          "iopub.execute_input": "2021-07-31T18:46:11.603894Z",
          "iopub.status.busy": "2021-07-31T18:46:11.603418Z",
          "iopub.status.idle": "2021-07-31T18:46:11.606494Z",
          "shell.execute_reply": "2021-07-31T18:46:11.606923Z",
          "shell.execute_reply.started": "2021-07-31T18:45:21.614258Z"
        },
        "papermill": {
          "duration": 0.125602,
          "end_time": "2021-07-31T18:46:11.607059",
          "exception": false,
          "start_time": "2021-07-31T18:46:11.481457",
          "status": "completed"
        },
        "tags": [],
        "id": "07d23c24"
      },
      "source": [
        "# Changing in numeric format\n",
        "\n",
        "df['TotalCharges'] = pd.to_numeric(df['TotalCharges'], errors=\"coerce\")"
      ],
      "id": "07d23c24",
      "execution_count": null,
      "outputs": []
    },
    {
      "cell_type": "code",
      "metadata": {
        "execution": {
          "iopub.execute_input": "2021-07-31T18:46:11.776141Z",
          "iopub.status.busy": "2021-07-31T18:46:11.771799Z",
          "iopub.status.idle": "2021-07-31T18:46:11.780337Z",
          "shell.execute_reply": "2021-07-31T18:46:11.779692Z",
          "shell.execute_reply.started": "2021-07-31T18:45:21.631140Z"
        },
        "papermill": {
          "duration": 0.099065,
          "end_time": "2021-07-31T18:46:11.780478",
          "exception": false,
          "start_time": "2021-07-31T18:46:11.681413",
          "status": "completed"
        },
        "tags": [],
        "colab": {
          "base_uri": "https://localhost:8080/"
        },
        "id": "93920a1d",
        "outputId": "080d65b4-2a59-4d82-ffab-c307f45a3c05"
      },
      "source": [
        "# Checking for null values \n",
        "\n",
        "df.isnull().sum()"
      ],
      "id": "93920a1d",
      "execution_count": null,
      "outputs": [
        {
          "output_type": "execute_result",
          "data": {
            "text/plain": [
              "gender               0\n",
              "SeniorCitizen        0\n",
              "Partner              0\n",
              "Dependents           0\n",
              "tenure               0\n",
              "PhoneService         0\n",
              "MultipleLines        0\n",
              "InternetService      0\n",
              "OnlineSecurity       0\n",
              "OnlineBackup         0\n",
              "DeviceProtection     0\n",
              "TechSupport          0\n",
              "StreamingTV          0\n",
              "StreamingMovies      0\n",
              "Contract             0\n",
              "PaperlessBilling     0\n",
              "PaymentMethod        0\n",
              "MonthlyCharges       0\n",
              "TotalCharges        11\n",
              "Churn                0\n",
              "dtype: int64"
            ]
          },
          "metadata": {},
          "execution_count": 351
        }
      ]
    },
    {
      "cell_type": "code",
      "metadata": {
        "execution": {
          "iopub.execute_input": "2021-07-31T18:46:12.020965Z",
          "iopub.status.busy": "2021-07-31T18:46:12.020303Z",
          "iopub.status.idle": "2021-07-31T18:46:12.026946Z",
          "shell.execute_reply": "2021-07-31T18:46:12.026350Z",
          "shell.execute_reply.started": "2021-07-31T18:45:21.652732Z"
        },
        "papermill": {
          "duration": 0.130602,
          "end_time": "2021-07-31T18:46:12.027090",
          "exception": false,
          "start_time": "2021-07-31T18:46:11.896488",
          "status": "completed"
        },
        "tags": [],
        "id": "1c81bab0"
      },
      "source": [
        "# Dropping all the rows in which value in not known\n",
        "\n",
        "df.drop(df[df['TotalCharges'].isnull()].index, inplace=True)\n",
        "df.reset_index(drop=True, inplace=True)"
      ],
      "id": "1c81bab0",
      "execution_count": null,
      "outputs": []
    },
    {
      "cell_type": "code",
      "metadata": {
        "execution": {
          "iopub.execute_input": "2021-07-31T18:46:12.282651Z",
          "iopub.status.busy": "2021-07-31T18:46:12.281778Z",
          "iopub.status.idle": "2021-07-31T18:46:12.286437Z",
          "shell.execute_reply": "2021-07-31T18:46:12.285946Z",
          "shell.execute_reply.started": "2021-07-31T18:45:21.665487Z"
        },
        "papermill": {
          "duration": 0.14452,
          "end_time": "2021-07-31T18:46:12.286559",
          "exception": false,
          "start_time": "2021-07-31T18:46:12.142039",
          "status": "completed"
        },
        "tags": [],
        "colab": {
          "base_uri": "https://localhost:8080/",
          "height": 290
        },
        "id": "5a7f414d",
        "outputId": "3fd390c2-2d67-4e7c-fed5-a4e9aeccf2af"
      },
      "source": [
        "df.head()"
      ],
      "id": "5a7f414d",
      "execution_count": null,
      "outputs": [
        {
          "output_type": "execute_result",
          "data": {
            "text/html": [
              "<div>\n",
              "<style scoped>\n",
              "    .dataframe tbody tr th:only-of-type {\n",
              "        vertical-align: middle;\n",
              "    }\n",
              "\n",
              "    .dataframe tbody tr th {\n",
              "        vertical-align: top;\n",
              "    }\n",
              "\n",
              "    .dataframe thead th {\n",
              "        text-align: right;\n",
              "    }\n",
              "</style>\n",
              "<table border=\"1\" class=\"dataframe\">\n",
              "  <thead>\n",
              "    <tr style=\"text-align: right;\">\n",
              "      <th></th>\n",
              "      <th>gender</th>\n",
              "      <th>SeniorCitizen</th>\n",
              "      <th>Partner</th>\n",
              "      <th>Dependents</th>\n",
              "      <th>tenure</th>\n",
              "      <th>PhoneService</th>\n",
              "      <th>MultipleLines</th>\n",
              "      <th>InternetService</th>\n",
              "      <th>OnlineSecurity</th>\n",
              "      <th>OnlineBackup</th>\n",
              "      <th>DeviceProtection</th>\n",
              "      <th>TechSupport</th>\n",
              "      <th>StreamingTV</th>\n",
              "      <th>StreamingMovies</th>\n",
              "      <th>Contract</th>\n",
              "      <th>PaperlessBilling</th>\n",
              "      <th>PaymentMethod</th>\n",
              "      <th>MonthlyCharges</th>\n",
              "      <th>TotalCharges</th>\n",
              "      <th>Churn</th>\n",
              "    </tr>\n",
              "  </thead>\n",
              "  <tbody>\n",
              "    <tr>\n",
              "      <th>0</th>\n",
              "      <td>Female</td>\n",
              "      <td>0</td>\n",
              "      <td>Yes</td>\n",
              "      <td>No</td>\n",
              "      <td>1</td>\n",
              "      <td>No</td>\n",
              "      <td>No phone service</td>\n",
              "      <td>DSL</td>\n",
              "      <td>No</td>\n",
              "      <td>Yes</td>\n",
              "      <td>No</td>\n",
              "      <td>No</td>\n",
              "      <td>No</td>\n",
              "      <td>No</td>\n",
              "      <td>Month-to-month</td>\n",
              "      <td>Yes</td>\n",
              "      <td>Electronic check</td>\n",
              "      <td>29.85</td>\n",
              "      <td>29.85</td>\n",
              "      <td>No</td>\n",
              "    </tr>\n",
              "    <tr>\n",
              "      <th>1</th>\n",
              "      <td>Male</td>\n",
              "      <td>0</td>\n",
              "      <td>No</td>\n",
              "      <td>No</td>\n",
              "      <td>34</td>\n",
              "      <td>Yes</td>\n",
              "      <td>No</td>\n",
              "      <td>DSL</td>\n",
              "      <td>Yes</td>\n",
              "      <td>No</td>\n",
              "      <td>Yes</td>\n",
              "      <td>No</td>\n",
              "      <td>No</td>\n",
              "      <td>No</td>\n",
              "      <td>One year</td>\n",
              "      <td>No</td>\n",
              "      <td>Mailed check</td>\n",
              "      <td>56.95</td>\n",
              "      <td>1889.50</td>\n",
              "      <td>No</td>\n",
              "    </tr>\n",
              "    <tr>\n",
              "      <th>2</th>\n",
              "      <td>Male</td>\n",
              "      <td>0</td>\n",
              "      <td>No</td>\n",
              "      <td>No</td>\n",
              "      <td>2</td>\n",
              "      <td>Yes</td>\n",
              "      <td>No</td>\n",
              "      <td>DSL</td>\n",
              "      <td>Yes</td>\n",
              "      <td>Yes</td>\n",
              "      <td>No</td>\n",
              "      <td>No</td>\n",
              "      <td>No</td>\n",
              "      <td>No</td>\n",
              "      <td>Month-to-month</td>\n",
              "      <td>Yes</td>\n",
              "      <td>Mailed check</td>\n",
              "      <td>53.85</td>\n",
              "      <td>108.15</td>\n",
              "      <td>Yes</td>\n",
              "    </tr>\n",
              "    <tr>\n",
              "      <th>3</th>\n",
              "      <td>Male</td>\n",
              "      <td>0</td>\n",
              "      <td>No</td>\n",
              "      <td>No</td>\n",
              "      <td>45</td>\n",
              "      <td>No</td>\n",
              "      <td>No phone service</td>\n",
              "      <td>DSL</td>\n",
              "      <td>Yes</td>\n",
              "      <td>No</td>\n",
              "      <td>Yes</td>\n",
              "      <td>Yes</td>\n",
              "      <td>No</td>\n",
              "      <td>No</td>\n",
              "      <td>One year</td>\n",
              "      <td>No</td>\n",
              "      <td>Bank transfer (automatic)</td>\n",
              "      <td>42.30</td>\n",
              "      <td>1840.75</td>\n",
              "      <td>No</td>\n",
              "    </tr>\n",
              "    <tr>\n",
              "      <th>4</th>\n",
              "      <td>Female</td>\n",
              "      <td>0</td>\n",
              "      <td>No</td>\n",
              "      <td>No</td>\n",
              "      <td>2</td>\n",
              "      <td>Yes</td>\n",
              "      <td>No</td>\n",
              "      <td>Fiber optic</td>\n",
              "      <td>No</td>\n",
              "      <td>No</td>\n",
              "      <td>No</td>\n",
              "      <td>No</td>\n",
              "      <td>No</td>\n",
              "      <td>No</td>\n",
              "      <td>Month-to-month</td>\n",
              "      <td>Yes</td>\n",
              "      <td>Electronic check</td>\n",
              "      <td>70.70</td>\n",
              "      <td>151.65</td>\n",
              "      <td>Yes</td>\n",
              "    </tr>\n",
              "  </tbody>\n",
              "</table>\n",
              "</div>"
            ],
            "text/plain": [
              "   gender  SeniorCitizen Partner  ... MonthlyCharges  TotalCharges Churn\n",
              "0  Female              0     Yes  ...          29.85         29.85    No\n",
              "1    Male              0      No  ...          56.95       1889.50    No\n",
              "2    Male              0      No  ...          53.85        108.15   Yes\n",
              "3    Male              0      No  ...          42.30       1840.75    No\n",
              "4  Female              0      No  ...          70.70        151.65   Yes\n",
              "\n",
              "[5 rows x 20 columns]"
            ]
          },
          "metadata": {},
          "execution_count": 353
        }
      ]
    },
    {
      "cell_type": "code",
      "metadata": {
        "execution": {
          "iopub.execute_input": "2021-07-31T18:46:12.439855Z",
          "iopub.status.busy": "2021-07-31T18:46:12.439378Z",
          "iopub.status.idle": "2021-07-31T18:46:12.444704Z",
          "shell.execute_reply": "2021-07-31T18:46:12.445096Z",
          "shell.execute_reply.started": "2021-07-31T18:45:21.703026Z"
        },
        "papermill": {
          "duration": 0.083615,
          "end_time": "2021-07-31T18:46:12.445239",
          "exception": false,
          "start_time": "2021-07-31T18:46:12.361624",
          "status": "completed"
        },
        "tags": [],
        "colab": {
          "base_uri": "https://localhost:8080/"
        },
        "id": "6c3052e1",
        "outputId": "a5bba167-eca4-49fe-a194-83bf316323d4"
      },
      "source": [
        "df.shape"
      ],
      "id": "6c3052e1",
      "execution_count": null,
      "outputs": [
        {
          "output_type": "execute_result",
          "data": {
            "text/plain": [
              "(7032, 20)"
            ]
          },
          "metadata": {},
          "execution_count": 354
        }
      ]
    },
    {
      "cell_type": "markdown",
      "metadata": {
        "papermill": {
          "duration": 0.074698,
          "end_time": "2021-07-31T18:46:12.595131",
          "exception": false,
          "start_time": "2021-07-31T18:46:12.520433",
          "status": "completed"
        },
        "tags": [],
        "id": "a321f45f"
      },
      "source": [
        "## Visualization"
      ],
      "id": "a321f45f"
    },
    {
      "cell_type": "code",
      "metadata": {
        "execution": {
          "iopub.execute_input": "2021-07-31T18:46:12.804577Z",
          "iopub.status.busy": "2021-07-31T18:46:12.804079Z",
          "iopub.status.idle": "2021-07-31T18:46:13.546845Z",
          "shell.execute_reply": "2021-07-31T18:46:13.546459Z",
          "shell.execute_reply.started": "2021-07-31T18:45:21.711067Z"
        },
        "papermill": {
          "duration": 0.834144,
          "end_time": "2021-07-31T18:46:13.546954",
          "exception": false,
          "start_time": "2021-07-31T18:46:12.712810",
          "status": "completed"
        },
        "tags": [],
        "colab": {
          "base_uri": "https://localhost:8080/",
          "height": 363
        },
        "id": "0cee6981",
        "outputId": "bb543006-7a0d-413f-c413-788b15ad22d3"
      },
      "source": [
        "# Visualization of null values\n",
        "\n",
        "sns.heatmap(df.isnull())"
      ],
      "id": "0cee6981",
      "execution_count": null,
      "outputs": [
        {
          "output_type": "execute_result",
          "data": {
            "text/plain": [
              "<matplotlib.axes._subplots.AxesSubplot at 0x7f641754f5d0>"
            ]
          },
          "metadata": {},
          "execution_count": 355
        },
        {
          "output_type": "display_data",
          "data": {
            "image/png": "[encoded data removed]",
            "text/plain": [
              "<Figure size 432x288 with 2 Axes>"
            ]
          },
          "metadata": {
            "needs_background": "light"
          }
        }
      ]
    },
    {
      "cell_type": "code",
      "metadata": {
        "execution": {
          "iopub.execute_input": "2021-07-31T18:46:13.704031Z",
          "iopub.status.busy": "2021-07-31T18:46:13.702462Z",
          "iopub.status.idle": "2021-07-31T18:46:13.715973Z",
          "shell.execute_reply": "2021-07-31T18:46:13.715561Z",
          "shell.execute_reply.started": "2021-07-31T18:45:22.287717Z"
        },
        "papermill": {
          "duration": 0.093917,
          "end_time": "2021-07-31T18:46:13.716078",
          "exception": false,
          "start_time": "2021-07-31T18:46:13.622161",
          "status": "completed"
        },
        "tags": [],
        "colab": {
          "base_uri": "https://localhost:8080/",
          "height": 172
        },
        "id": "9acbf311",
        "outputId": "c28b577a-f618-46e5-b43d-b687ae8fd45d"
      },
      "source": [
        "# Checking Correlation \n",
        "\n",
        "df.corr()"
      ],
      "id": "9acbf311",
      "execution_count": null,
      "outputs": [
        {
          "output_type": "execute_result",
          "data": {
            "text/html": [
              "<div>\n",
              "<style scoped>\n",
              "    .dataframe tbody tr th:only-of-type {\n",
              "        vertical-align: middle;\n",
              "    }\n",
              "\n",
              "    .dataframe tbody tr th {\n",
              "        vertical-align: top;\n",
              "    }\n",
              "\n",
              "    .dataframe thead th {\n",
              "        text-align: right;\n",
              "    }\n",
              "</style>\n",
              "<table border=\"1\" class=\"dataframe\">\n",
              "  <thead>\n",
              "    <tr style=\"text-align: right;\">\n",
              "      <th></th>\n",
              "      <th>SeniorCitizen</th>\n",
              "      <th>tenure</th>\n",
              "      <th>MonthlyCharges</th>\n",
              "      <th>TotalCharges</th>\n",
              "    </tr>\n",
              "  </thead>\n",
              "  <tbody>\n",
              "    <tr>\n",
              "      <th>SeniorCitizen</th>\n",
              "      <td>1.000000</td>\n",
              "      <td>0.015683</td>\n",
              "      <td>0.219874</td>\n",
              "      <td>0.102411</td>\n",
              "    </tr>\n",
              "    <tr>\n",
              "      <th>tenure</th>\n",
              "      <td>0.015683</td>\n",
              "      <td>1.000000</td>\n",
              "      <td>0.246862</td>\n",
              "      <td>0.825880</td>\n",
              "    </tr>\n",
              "    <tr>\n",
              "      <th>MonthlyCharges</th>\n",
              "      <td>0.219874</td>\n",
              "      <td>0.246862</td>\n",
              "      <td>1.000000</td>\n",
              "      <td>0.651065</td>\n",
              "    </tr>\n",
              "    <tr>\n",
              "      <th>TotalCharges</th>\n",
              "      <td>0.102411</td>\n",
              "      <td>0.825880</td>\n",
              "      <td>0.651065</td>\n",
              "      <td>1.000000</td>\n",
              "    </tr>\n",
              "  </tbody>\n",
              "</table>\n",
              "</div>"
            ],
            "text/plain": [
              "                SeniorCitizen    tenure  MonthlyCharges  TotalCharges\n",
              "SeniorCitizen        1.000000  0.015683        0.219874      0.102411\n",
              "tenure               0.015683  1.000000        0.246862      0.825880\n",
              "MonthlyCharges       0.219874  0.246862        1.000000      0.651065\n",
              "TotalCharges         0.102411  0.825880        0.651065      1.000000"
            ]
          },
          "metadata": {},
          "execution_count": 356
        }
      ]
    },
    {
      "cell_type": "code",
      "metadata": {
        "execution": {
          "iopub.execute_input": "2021-07-31T18:46:13.876223Z",
          "iopub.status.busy": "2021-07-31T18:46:13.873808Z",
          "iopub.status.idle": "2021-07-31T18:46:14.165421Z",
          "shell.execute_reply": "2021-07-31T18:46:14.164856Z",
          "shell.execute_reply.started": "2021-07-31T18:45:22.302288Z"
        },
        "papermill": {
          "duration": 0.372312,
          "end_time": "2021-07-31T18:46:14.165563",
          "exception": false,
          "start_time": "2021-07-31T18:46:13.793251",
          "status": "completed"
        },
        "tags": [],
        "colab": {
          "base_uri": "https://localhost:8080/",
          "height": 357
        },
        "id": "8e37a258",
        "outputId": "b270fd34-127f-4a07-9655-e5e1a6dd3f60"
      },
      "source": [
        "# Visualizing correalation\n",
        "\n",
        "sns.heatmap(df.corr(), annot=True)"
      ],
      "id": "8e37a258",
      "execution_count": null,
      "outputs": [
        {
          "output_type": "execute_result",
          "data": {
            "text/plain": [
              "<matplotlib.axes._subplots.AxesSubplot at 0x7f64174389d0>"
            ]
          },
          "metadata": {},
          "execution_count": 357
        },
        {
          "output_type": "display_data",
          "data": {
            "image/png": "[encoded data removed]",
            "text/plain": [
              "<Figure size 432x288 with 2 Axes>"
            ]
          },
          "metadata": {
            "needs_background": "light"
          }
        }
      ]
    },
    {
      "cell_type": "code",
      "metadata": {
        "execution": {
          "iopub.execute_input": "2021-07-31T18:46:14.413556Z",
          "iopub.status.busy": "2021-07-31T18:46:14.412770Z",
          "iopub.status.idle": "2021-07-31T18:46:14.810333Z",
          "shell.execute_reply": "2021-07-31T18:46:14.809687Z",
          "shell.execute_reply.started": "2021-07-31T18:45:22.527412Z"
        },
        "papermill": {
          "duration": 0.526001,
          "end_time": "2021-07-31T18:46:14.810465",
          "exception": false,
          "start_time": "2021-07-31T18:46:14.284464",
          "status": "completed"
        },
        "tags": [],
        "colab": {
          "base_uri": "https://localhost:8080/",
          "height": 351
        },
        "id": "654bb2a1",
        "outputId": "8c0124da-15fe-4208-ac16-c07c585b0693"
      },
      "source": [
        "plt.figure(figsize=(5, 5))\n",
        "sns.barplot(data = df, y=\"TotalCharges\", x=\"Churn\")"
      ],
      "id": "654bb2a1",
      "execution_count": null,
      "outputs": [
        {
          "output_type": "execute_result",
          "data": {
            "text/plain": [
              "<matplotlib.axes._subplots.AxesSubplot at 0x7f6417438cd0>"
            ]
          },
          "metadata": {},
          "execution_count": 358
        },
        {
          "output_type": "display_data",
          "data": {
            "image/png": "[encoded data removed]",
            "text/plain": [
              "<Figure size 360x360 with 1 Axes>"
            ]
          },
          "metadata": {
            "needs_background": "light"
          }
        }
      ]
    },
    {
      "cell_type": "code",
      "metadata": {
        "execution": {
          "iopub.execute_input": "2021-07-31T18:46:15.058881Z",
          "iopub.status.busy": "2021-07-31T18:46:15.058002Z",
          "iopub.status.idle": "2021-07-31T18:46:15.479860Z",
          "shell.execute_reply": "2021-07-31T18:46:15.479302Z",
          "shell.execute_reply.started": "2021-07-31T18:45:22.732002Z"
        },
        "papermill": {
          "duration": 0.547968,
          "end_time": "2021-07-31T18:46:15.480008",
          "exception": false,
          "start_time": "2021-07-31T18:46:14.932040",
          "status": "completed"
        },
        "tags": [],
        "colab": {
          "base_uri": "https://localhost:8080/",
          "height": 296
        },
        "id": "6fb17785",
        "outputId": "b81dcaf2-cce1-495e-eb4a-803731a956b2"
      },
      "source": [
        "sns.barplot(data = df, x=\"tenure\", y=\"Churn\")"
      ],
      "id": "6fb17785",
      "execution_count": null,
      "outputs": [
        {
          "output_type": "execute_result",
          "data": {
            "text/plain": [
              "<matplotlib.axes._subplots.AxesSubplot at 0x7f6417342f50>"
            ]
          },
          "metadata": {},
          "execution_count": 359
        },
        {
          "output_type": "display_data",
          "data": {
            "image/png": "[encoded data removed]",
            "text/plain": [
              "<Figure size 432x288 with 1 Axes>"
            ]
          },
          "metadata": {
            "needs_background": "light"
          }
        }
      ]
    },
    {
      "cell_type": "markdown",
      "metadata": {
        "papermill": {
          "duration": 0.279702,
          "end_time": "2021-07-31T18:46:21.146571",
          "exception": false,
          "start_time": "2021-07-31T18:46:20.866869",
          "status": "completed"
        },
        "tags": [],
        "id": "1c2a9f11"
      },
      "source": [
        "### Preprocessing Data"
      ],
      "id": "1c2a9f11"
    },
    {
      "cell_type": "code",
      "metadata": {
        "execution": {
          "iopub.execute_input": "2021-07-31T18:46:21.713247Z",
          "iopub.status.busy": "2021-07-31T18:46:21.712640Z",
          "iopub.status.idle": "2021-07-31T18:46:21.717818Z",
          "shell.execute_reply": "2021-07-31T18:46:21.717241Z",
          "shell.execute_reply.started": "2021-07-31T18:45:24.417642Z"
        },
        "papermill": {
          "duration": 0.294362,
          "end_time": "2021-07-31T18:46:21.717965",
          "exception": false,
          "start_time": "2021-07-31T18:46:21.423603",
          "status": "completed"
        },
        "tags": [],
        "colab": {
          "base_uri": "https://localhost:8080/"
        },
        "id": "9d6e6408",
        "outputId": "84449c4e-cbcd-4a0e-9bb6-27bef3a6c010"
      },
      "source": [
        "print (df['Partner'].value_counts(ascending=True))"
      ],
      "id": "9d6e6408",
      "execution_count": null,
      "outputs": [
        {
          "output_type": "stream",
          "text": [
            "Yes    3393\n",
            "No     3639\n",
            "Name: Partner, dtype: int64\n"
          ],
          "name": "stdout"
        }
      ]
    },
    {
      "cell_type": "code",
      "metadata": {
        "execution": {
          "iopub.execute_input": "2021-07-31T18:46:22.278590Z",
          "iopub.status.busy": "2021-07-31T18:46:22.277902Z",
          "iopub.status.idle": "2021-07-31T18:46:22.299444Z",
          "shell.execute_reply": "2021-07-31T18:46:22.298796Z",
          "shell.execute_reply.started": "2021-07-31T18:45:24.432920Z"
        },
        "papermill": {
          "duration": 0.304227,
          "end_time": "2021-07-31T18:46:22.299578",
          "exception": false,
          "start_time": "2021-07-31T18:46:21.995351",
          "status": "completed"
        },
        "tags": [],
        "colab": {
          "base_uri": "https://localhost:8080/"
        },
        "id": "9cf544d0",
        "outputId": "f5f48384-c6d3-4924-e8ea-375f471228ae"
      },
      "source": [
        "for i in df.columns:\n",
        "    if df[i].dtypes==\"object\":\n",
        "        print(f'{i} : {df[i].unique()}')\n",
        "        print(\"****************************************************\")"
      ],
      "id": "9cf544d0",
      "execution_count": null,
      "outputs": [
        {
          "output_type": "stream",
          "text": [
            "gender : ['Female' 'Male']\n",
            "****************************************************\n",
            "Partner : ['Yes' 'No']\n",
            "****************************************************\n",
            "Dependents : ['No' 'Yes']\n",
            "****************************************************\n",
            "PhoneService : ['No' 'Yes']\n",
            "****************************************************\n",
            "MultipleLines : ['No phone service' 'No' 'Yes']\n",
            "****************************************************\n",
            "InternetService : ['DSL' 'Fiber optic' 'No']\n",
            "****************************************************\n",
            "OnlineSecurity : ['No' 'Yes' 'No internet service']\n",
            "****************************************************\n",
            "OnlineBackup : ['Yes' 'No' 'No internet service']\n",
            "****************************************************\n",
            "DeviceProtection : ['No' 'Yes' 'No internet service']\n",
            "****************************************************\n",
            "TechSupport : ['No' 'Yes' 'No internet service']\n",
            "****************************************************\n",
            "StreamingTV : ['No' 'Yes' 'No internet service']\n",
            "****************************************************\n",
            "StreamingMovies : ['No' 'Yes' 'No internet service']\n",
            "****************************************************\n",
            "Contract : ['Month-to-month' 'One year' 'Two year']\n",
            "****************************************************\n",
            "PaperlessBilling : ['Yes' 'No']\n",
            "****************************************************\n",
            "PaymentMethod : ['Electronic check' 'Mailed check' 'Bank transfer (automatic)'\n",
            " 'Credit card (automatic)']\n",
            "****************************************************\n",
            "Churn : ['No' 'Yes']\n",
            "****************************************************\n"
          ],
          "name": "stdout"
        }
      ]
    },
    {
      "cell_type": "markdown",
      "metadata": {
        "papermill": {
          "duration": 0.278497,
          "end_time": "2021-07-31T18:46:22.856568",
          "exception": false,
          "start_time": "2021-07-31T18:46:22.578071",
          "status": "completed"
        },
        "tags": [],
        "id": "51915dd1"
      },
      "source": [
        "* Above cell shows us the list of all features with their respective categorical variables"
      ],
      "id": "51915dd1"
    },
    {
      "cell_type": "code",
      "metadata": {
        "execution": {
          "iopub.execute_input": "2021-07-31T18:46:23.413537Z",
          "iopub.status.busy": "2021-07-31T18:46:23.412893Z",
          "iopub.status.idle": "2021-07-31T18:46:23.432476Z",
          "shell.execute_reply": "2021-07-31T18:46:23.432968Z",
          "shell.execute_reply.started": "2021-07-31T18:45:24.467449Z"
        },
        "papermill": {
          "duration": 0.298434,
          "end_time": "2021-07-31T18:46:23.433146",
          "exception": false,
          "start_time": "2021-07-31T18:46:23.134712",
          "status": "completed"
        },
        "tags": [],
        "id": "bf18be4a"
      },
      "source": [
        "df.replace('No internet service', 'No', inplace=True)\n",
        "df.replace('No phone service', 'No', inplace=True)"
      ],
      "id": "bf18be4a",
      "execution_count": null,
      "outputs": []
    },
    {
      "cell_type": "markdown",
      "metadata": {
        "papermill": {
          "duration": 0.278681,
          "end_time": "2021-07-31T18:46:23.989559",
          "exception": false,
          "start_time": "2021-07-31T18:46:23.710878",
          "status": "completed"
        },
        "tags": [],
        "id": "b2e1d1cc"
      },
      "source": [
        "* Replace long negative text by \"No\" for ease of access"
      ],
      "id": "b2e1d1cc"
    },
    {
      "cell_type": "code",
      "metadata": {
        "execution": {
          "iopub.execute_input": "2021-07-31T18:46:24.551902Z",
          "iopub.status.busy": "2021-07-31T18:46:24.550916Z",
          "iopub.status.idle": "2021-07-31T18:46:24.576846Z",
          "shell.execute_reply": "2021-07-31T18:46:24.576196Z",
          "shell.execute_reply.started": "2021-07-31T18:45:24.484238Z"
        },
        "papermill": {
          "duration": 0.308587,
          "end_time": "2021-07-31T18:46:24.576980",
          "exception": false,
          "start_time": "2021-07-31T18:46:24.268393",
          "status": "completed"
        },
        "tags": [],
        "colab": {
          "base_uri": "https://localhost:8080/"
        },
        "id": "67d188e1",
        "outputId": "4154f1ff-8b50-4445-b087-6323371352df"
      },
      "source": [
        "for i in df.columns:\n",
        "    if df[i].dtypes==\"object\":\n",
        "        print(f'{i} : {df[i].unique()}')\n",
        "        print(\"****************************************************\")"
      ],
      "id": "67d188e1",
      "execution_count": null,
      "outputs": [
        {
          "output_type": "stream",
          "text": [
            "gender : ['Female' 'Male']\n",
            "****************************************************\n",
            "Partner : ['Yes' 'No']\n",
            "****************************************************\n",
            "Dependents : ['No' 'Yes']\n",
            "****************************************************\n",
            "PhoneService : ['No' 'Yes']\n",
            "****************************************************\n",
            "MultipleLines : ['No' 'Yes']\n",
            "****************************************************\n",
            "InternetService : ['DSL' 'Fiber optic' 'No']\n",
            "****************************************************\n",
            "OnlineSecurity : ['No' 'Yes']\n",
            "****************************************************\n",
            "OnlineBackup : ['Yes' 'No']\n",
            "****************************************************\n",
            "DeviceProtection : ['No' 'Yes']\n",
            "****************************************************\n",
            "TechSupport : ['No' 'Yes']\n",
            "****************************************************\n",
            "StreamingTV : ['No' 'Yes']\n",
            "****************************************************\n",
            "StreamingMovies : ['No' 'Yes']\n",
            "****************************************************\n",
            "Contract : ['Month-to-month' 'One year' 'Two year']\n",
            "****************************************************\n",
            "PaperlessBilling : ['Yes' 'No']\n",
            "****************************************************\n",
            "PaymentMethod : ['Electronic check' 'Mailed check' 'Bank transfer (automatic)'\n",
            " 'Credit card (automatic)']\n",
            "****************************************************\n",
            "Churn : ['No' 'Yes']\n",
            "****************************************************\n"
          ],
          "name": "stdout"
        }
      ]
    },
    {
      "cell_type": "markdown",
      "metadata": {
        "papermill": {
          "duration": 0.27889,
          "end_time": "2021-07-31T18:46:25.135475",
          "exception": false,
          "start_time": "2021-07-31T18:46:24.856585",
          "status": "completed"
        },
        "tags": [],
        "id": "1f9dd58e"
      },
      "source": [
        "* After Removing all long values we have above dataframe"
      ],
      "id": "1f9dd58e"
    },
    {
      "cell_type": "code",
      "metadata": {
        "execution": {
          "iopub.execute_input": "2021-07-31T18:46:25.701359Z",
          "iopub.status.busy": "2021-07-31T18:46:25.700688Z",
          "iopub.status.idle": "2021-07-31T18:46:25.704174Z",
          "shell.execute_reply": "2021-07-31T18:46:25.703512Z",
          "shell.execute_reply.started": "2021-07-31T18:45:24.508018Z"
        },
        "papermill": {
          "duration": 0.290378,
          "end_time": "2021-07-31T18:46:25.704359",
          "exception": false,
          "start_time": "2021-07-31T18:46:25.413981",
          "status": "completed"
        },
        "tags": [],
        "colab": {
          "base_uri": "https://localhost:8080/"
        },
        "id": "4319d4ec",
        "outputId": "b423a6b9-12a0-45f1-ddd4-f7e139067c8d"
      },
      "source": [
        "print(df['gender'].value_counts(ascending=True))"
      ],
      "id": "4319d4ec",
      "execution_count": null,
      "outputs": [
        {
          "output_type": "stream",
          "text": [
            "Female    3483\n",
            "Male      3549\n",
            "Name: gender, dtype: int64\n"
          ],
          "name": "stdout"
        }
      ]
    },
    {
      "cell_type": "code",
      "metadata": {
        "execution": {
          "iopub.execute_input": "2021-07-31T18:46:26.287496Z",
          "iopub.status.busy": "2021-07-31T18:46:26.286794Z",
          "iopub.status.idle": "2021-07-31T18:46:26.303561Z",
          "shell.execute_reply": "2021-07-31T18:46:26.303017Z",
          "shell.execute_reply.started": "2021-07-31T18:45:24.515609Z"
        },
        "papermill": {
          "duration": 0.316946,
          "end_time": "2021-07-31T18:46:26.303669",
          "exception": false,
          "start_time": "2021-07-31T18:46:25.986723",
          "status": "completed"
        },
        "tags": [],
        "colab": {
          "base_uri": "https://localhost:8080/",
          "height": 290
        },
        "id": "9eb98331",
        "outputId": "22742801-85be-4b99-cb87-440b83c28689"
      },
      "source": [
        "# Replaceing Male be 0 and Female by 1\n",
        "\n",
        "df['gender'].replace({'Female':1,'Male':0},inplace=True)\n",
        "df.head()"
      ],
      "id": "9eb98331",
      "execution_count": null,
      "outputs": [
        {
          "output_type": "execute_result",
          "data": {
            "text/html": [
              "<div>\n",
              "<style scoped>\n",
              "    .dataframe tbody tr th:only-of-type {\n",
              "        vertical-align: middle;\n",
              "    }\n",
              "\n",
              "    .dataframe tbody tr th {\n",
              "        vertical-align: top;\n",
              "    }\n",
              "\n",
              "    .dataframe thead th {\n",
              "        text-align: right;\n",
              "    }\n",
              "</style>\n",
              "<table border=\"1\" class=\"dataframe\">\n",
              "  <thead>\n",
              "    <tr style=\"text-align: right;\">\n",
              "      <th></th>\n",
              "      <th>gender</th>\n",
              "      <th>SeniorCitizen</th>\n",
              "      <th>Partner</th>\n",
              "      <th>Dependents</th>\n",
              "      <th>tenure</th>\n",
              "      <th>PhoneService</th>\n",
              "      <th>MultipleLines</th>\n",
              "      <th>InternetService</th>\n",
              "      <th>OnlineSecurity</th>\n",
              "      <th>OnlineBackup</th>\n",
              "      <th>DeviceProtection</th>\n",
              "      <th>TechSupport</th>\n",
              "      <th>StreamingTV</th>\n",
              "      <th>StreamingMovies</th>\n",
              "      <th>Contract</th>\n",
              "      <th>PaperlessBilling</th>\n",
              "      <th>PaymentMethod</th>\n",
              "      <th>MonthlyCharges</th>\n",
              "      <th>TotalCharges</th>\n",
              "      <th>Churn</th>\n",
              "    </tr>\n",
              "  </thead>\n",
              "  <tbody>\n",
              "    <tr>\n",
              "      <th>0</th>\n",
              "      <td>1</td>\n",
              "      <td>0</td>\n",
              "      <td>Yes</td>\n",
              "      <td>No</td>\n",
              "      <td>1</td>\n",
              "      <td>No</td>\n",
              "      <td>No</td>\n",
              "      <td>DSL</td>\n",
              "      <td>No</td>\n",
              "      <td>Yes</td>\n",
              "      <td>No</td>\n",
              "      <td>No</td>\n",
              "      <td>No</td>\n",
              "      <td>No</td>\n",
              "      <td>Month-to-month</td>\n",
              "      <td>Yes</td>\n",
              "      <td>Electronic check</td>\n",
              "      <td>29.85</td>\n",
              "      <td>29.85</td>\n",
              "      <td>No</td>\n",
              "    </tr>\n",
              "    <tr>\n",
              "      <th>1</th>\n",
              "      <td>0</td>\n",
              "      <td>0</td>\n",
              "      <td>No</td>\n",
              "      <td>No</td>\n",
              "      <td>34</td>\n",
              "      <td>Yes</td>\n",
              "      <td>No</td>\n",
              "      <td>DSL</td>\n",
              "      <td>Yes</td>\n",
              "      <td>No</td>\n",
              "      <td>Yes</td>\n",
              "      <td>No</td>\n",
              "      <td>No</td>\n",
              "      <td>No</td>\n",
              "      <td>One year</td>\n",
              "      <td>No</td>\n",
              "      <td>Mailed check</td>\n",
              "      <td>56.95</td>\n",
              "      <td>1889.50</td>\n",
              "      <td>No</td>\n",
              "    </tr>\n",
              "    <tr>\n",
              "      <th>2</th>\n",
              "      <td>0</td>\n",
              "      <td>0</td>\n",
              "      <td>No</td>\n",
              "      <td>No</td>\n",
              "      <td>2</td>\n",
              "      <td>Yes</td>\n",
              "      <td>No</td>\n",
              "      <td>DSL</td>\n",
              "      <td>Yes</td>\n",
              "      <td>Yes</td>\n",
              "      <td>No</td>\n",
              "      <td>No</td>\n",
              "      <td>No</td>\n",
              "      <td>No</td>\n",
              "      <td>Month-to-month</td>\n",
              "      <td>Yes</td>\n",
              "      <td>Mailed check</td>\n",
              "      <td>53.85</td>\n",
              "      <td>108.15</td>\n",
              "      <td>Yes</td>\n",
              "    </tr>\n",
              "    <tr>\n",
              "      <th>3</th>\n",
              "      <td>0</td>\n",
              "      <td>0</td>\n",
              "      <td>No</td>\n",
              "      <td>No</td>\n",
              "      <td>45</td>\n",
              "      <td>No</td>\n",
              "      <td>No</td>\n",
              "      <td>DSL</td>\n",
              "      <td>Yes</td>\n",
              "      <td>No</td>\n",
              "      <td>Yes</td>\n",
              "      <td>Yes</td>\n",
              "      <td>No</td>\n",
              "      <td>No</td>\n",
              "      <td>One year</td>\n",
              "      <td>No</td>\n",
              "      <td>Bank transfer (automatic)</td>\n",
              "      <td>42.30</td>\n",
              "      <td>1840.75</td>\n",
              "      <td>No</td>\n",
              "    </tr>\n",
              "    <tr>\n",
              "      <th>4</th>\n",
              "      <td>1</td>\n",
              "      <td>0</td>\n",
              "      <td>No</td>\n",
              "      <td>No</td>\n",
              "      <td>2</td>\n",
              "      <td>Yes</td>\n",
              "      <td>No</td>\n",
              "      <td>Fiber optic</td>\n",
              "      <td>No</td>\n",
              "      <td>No</td>\n",
              "      <td>No</td>\n",
              "      <td>No</td>\n",
              "      <td>No</td>\n",
              "      <td>No</td>\n",
              "      <td>Month-to-month</td>\n",
              "      <td>Yes</td>\n",
              "      <td>Electronic check</td>\n",
              "      <td>70.70</td>\n",
              "      <td>151.65</td>\n",
              "      <td>Yes</td>\n",
              "    </tr>\n",
              "  </tbody>\n",
              "</table>\n",
              "</div>"
            ],
            "text/plain": [
              "   gender  SeniorCitizen Partner  ... MonthlyCharges  TotalCharges Churn\n",
              "0       1              0     Yes  ...          29.85         29.85    No\n",
              "1       0              0      No  ...          56.95       1889.50    No\n",
              "2       0              0      No  ...          53.85        108.15   Yes\n",
              "3       0              0      No  ...          42.30       1840.75    No\n",
              "4       1              0      No  ...          70.70        151.65   Yes\n",
              "\n",
              "[5 rows x 20 columns]"
            ]
          },
          "metadata": {},
          "execution_count": 365
        }
      ]
    },
    {
      "cell_type": "markdown",
      "metadata": {
        "papermill": {
          "duration": 0.177167,
          "end_time": "2021-07-31T18:46:27.077875",
          "exception": false,
          "start_time": "2021-07-31T18:46:26.900708",
          "status": "completed"
        },
        "tags": [],
        "id": "0d6c8828"
      },
      "source": [
        "* There are few features in which categorical variables are more than two and they are not \"Yes\" or \"No\" types"
      ],
      "id": "0d6c8828"
    },
    {
      "cell_type": "code",
      "metadata": {
        "execution": {
          "iopub.execute_input": "2021-07-31T18:46:27.441620Z",
          "iopub.status.busy": "2021-07-31T18:46:27.441047Z",
          "iopub.status.idle": "2021-07-31T18:46:27.460544Z",
          "shell.execute_reply": "2021-07-31T18:46:27.459901Z",
          "shell.execute_reply.started": "2021-07-31T18:45:24.562898Z"
        },
        "papermill": {
          "duration": 0.203783,
          "end_time": "2021-07-31T18:46:27.460671",
          "exception": false,
          "start_time": "2021-07-31T18:46:27.256888",
          "status": "completed"
        },
        "tags": [],
        "colab": {
          "base_uri": "https://localhost:8080/"
        },
        "id": "e9974b95",
        "outputId": "ac72d8b1-cb08-4e12-ed3f-1d2d6ee8c57c"
      },
      "source": [
        "for i in df.columns:\n",
        "    if (len(df[i].unique()) >2) & (df[i].dtypes != \"int64\") &(df[i].dtypes!= \"float64\"):\n",
        "        print(i)"
      ],
      "id": "e9974b95",
      "execution_count": null,
      "outputs": [
        {
          "output_type": "stream",
          "text": [
            "InternetService\n",
            "Contract\n",
            "PaymentMethod\n"
          ],
          "name": "stdout"
        }
      ]
    },
    {
      "cell_type": "markdown",
      "metadata": {
        "papermill": {
          "duration": 0.177237,
          "end_time": "2021-07-31T18:46:27.812472",
          "exception": false,
          "start_time": "2021-07-31T18:46:27.635235",
          "status": "completed"
        },
        "tags": [],
        "id": "eb271c2c"
      },
      "source": [
        "* Above 3 Features column in dataset have more than 2 categorical values"
      ],
      "id": "eb271c2c"
    },
    {
      "cell_type": "code",
      "metadata": {
        "execution": {
          "iopub.execute_input": "2021-07-31T18:46:28.170585Z",
          "iopub.status.busy": "2021-07-31T18:46:28.169891Z",
          "iopub.status.idle": "2021-07-31T18:46:28.174308Z",
          "shell.execute_reply": "2021-07-31T18:46:28.173733Z",
          "shell.execute_reply.started": "2021-07-31T18:45:24.583503Z"
        },
        "papermill": {
          "duration": 0.187611,
          "end_time": "2021-07-31T18:46:28.174515",
          "exception": false,
          "start_time": "2021-07-31T18:46:27.986904",
          "status": "completed"
        },
        "tags": [],
        "colab": {
          "base_uri": "https://localhost:8080/"
        },
        "id": "57797aad",
        "outputId": "b1a37a75-8308-4718-de36-f2b91dcff7f6"
      },
      "source": [
        "print(df['InternetService'].value_counts(ascending=True))"
      ],
      "id": "57797aad",
      "execution_count": null,
      "outputs": [
        {
          "output_type": "stream",
          "text": [
            "No             1520\n",
            "DSL            2416\n",
            "Fiber optic    3096\n",
            "Name: InternetService, dtype: int64\n"
          ],
          "name": "stdout"
        }
      ]
    },
    {
      "cell_type": "code",
      "metadata": {
        "execution": {
          "iopub.execute_input": "2021-07-31T18:46:28.753990Z",
          "iopub.status.busy": "2021-07-31T18:46:28.753372Z",
          "iopub.status.idle": "2021-07-31T18:46:28.757825Z",
          "shell.execute_reply": "2021-07-31T18:46:28.758231Z",
          "shell.execute_reply.started": "2021-07-31T18:45:24.591366Z"
        },
        "papermill": {
          "duration": 0.29564,
          "end_time": "2021-07-31T18:46:28.758409",
          "exception": false,
          "start_time": "2021-07-31T18:46:28.462769",
          "status": "completed"
        },
        "tags": [],
        "colab": {
          "base_uri": "https://localhost:8080/"
        },
        "id": "50766a08",
        "outputId": "08493081-7d33-46d6-f2ee-8cd61103e372"
      },
      "source": [
        "print(df['Contract'].value_counts(ascending=True))"
      ],
      "id": "50766a08",
      "execution_count": null,
      "outputs": [
        {
          "output_type": "stream",
          "text": [
            "One year          1472\n",
            "Two year          1685\n",
            "Month-to-month    3875\n",
            "Name: Contract, dtype: int64\n"
          ],
          "name": "stdout"
        }
      ]
    },
    {
      "cell_type": "code",
      "metadata": {
        "execution": {
          "iopub.execute_input": "2021-07-31T18:46:29.122423Z",
          "iopub.status.busy": "2021-07-31T18:46:29.121712Z",
          "iopub.status.idle": "2021-07-31T18:46:29.124654Z",
          "shell.execute_reply": "2021-07-31T18:46:29.125160Z",
          "shell.execute_reply.started": "2021-07-31T18:45:24.604028Z"
        },
        "papermill": {
          "duration": 0.188789,
          "end_time": "2021-07-31T18:46:29.125364",
          "exception": false,
          "start_time": "2021-07-31T18:46:28.936575",
          "status": "completed"
        },
        "tags": [],
        "colab": {
          "base_uri": "https://localhost:8080/"
        },
        "id": "ea31cfdb",
        "outputId": "6d8c0fad-99e5-4a6f-c8f7-de61bf66edc9"
      },
      "source": [
        "print(df['PaymentMethod'].value_counts(ascending=True))"
      ],
      "id": "ea31cfdb",
      "execution_count": null,
      "outputs": [
        {
          "output_type": "stream",
          "text": [
            "Credit card (automatic)      1521\n",
            "Bank transfer (automatic)    1542\n",
            "Mailed check                 1604\n",
            "Electronic check             2365\n",
            "Name: PaymentMethod, dtype: int64\n"
          ],
          "name": "stdout"
        }
      ]
    },
    {
      "cell_type": "markdown",
      "metadata": {
        "papermill": {
          "duration": 0.288626,
          "end_time": "2021-07-31T18:46:30.282946",
          "exception": false,
          "start_time": "2021-07-31T18:46:29.994320",
          "status": "completed"
        },
        "tags": [],
        "id": "bc95f335"
      },
      "source": [
        "* To deal with such kind of feature column we are required to use one-hot encoding."
      ],
      "id": "bc95f335"
    },
    {
      "cell_type": "code",
      "metadata": {
        "execution": {
          "iopub.execute_input": "2021-07-31T18:46:30.865697Z",
          "iopub.status.busy": "2021-07-31T18:46:30.864851Z",
          "iopub.status.idle": "2021-07-31T18:46:30.888090Z",
          "shell.execute_reply": "2021-07-31T18:46:30.888663Z",
          "shell.execute_reply.started": "2021-07-31T18:45:24.633377Z"
        },
        "papermill": {
          "duration": 0.317029,
          "end_time": "2021-07-31T18:46:30.888872",
          "exception": false,
          "start_time": "2021-07-31T18:46:30.571843",
          "status": "completed"
        },
        "tags": [],
        "colab": {
          "base_uri": "https://localhost:8080/"
        },
        "id": "b4d4e4b4",
        "outputId": "90356a38-4881-46f6-b694-67eadb204991"
      },
      "source": [
        "more_than_2 = ['InternetService' ,'Contract' ,'PaymentMethod']\n",
        "df = pd.get_dummies(data=df, columns= more_than_2, drop_first=True)\n",
        "df.dtypes"
      ],
      "id": "b4d4e4b4",
      "execution_count": null,
      "outputs": [
        {
          "output_type": "execute_result",
          "data": {
            "text/plain": [
              "gender                                     int64\n",
              "SeniorCitizen                              int64\n",
              "Partner                                   object\n",
              "Dependents                                object\n",
              "tenure                                     int64\n",
              "PhoneService                              object\n",
              "MultipleLines                             object\n",
              "OnlineSecurity                            object\n",
              "OnlineBackup                              object\n",
              "DeviceProtection                          object\n",
              "TechSupport                               object\n",
              "StreamingTV                               object\n",
              "StreamingMovies                           object\n",
              "PaperlessBilling                          object\n",
              "MonthlyCharges                           float64\n",
              "TotalCharges                             float64\n",
              "Churn                                     object\n",
              "InternetService_Fiber optic                uint8\n",
              "InternetService_No                         uint8\n",
              "Contract_One year                          uint8\n",
              "Contract_Two year                          uint8\n",
              "PaymentMethod_Credit card (automatic)      uint8\n",
              "PaymentMethod_Electronic check             uint8\n",
              "PaymentMethod_Mailed check                 uint8\n",
              "dtype: object"
            ]
          },
          "metadata": {},
          "execution_count": 370
        }
      ]
    },
    {
      "cell_type": "code",
      "metadata": {
        "execution": {
          "iopub.execute_input": "2021-07-31T18:46:31.454643Z",
          "iopub.status.busy": "2021-07-31T18:46:31.453979Z",
          "iopub.status.idle": "2021-07-31T18:46:31.460644Z",
          "shell.execute_reply": "2021-07-31T18:46:31.460038Z",
          "shell.execute_reply.started": "2021-07-31T18:45:24.657428Z"
        },
        "papermill": {
          "duration": 0.290051,
          "end_time": "2021-07-31T18:46:31.460793",
          "exception": false,
          "start_time": "2021-07-31T18:46:31.170742",
          "status": "completed"
        },
        "tags": [],
        "colab": {
          "base_uri": "https://localhost:8080/"
        },
        "id": "7bf65575",
        "outputId": "88f20706-44ed-4c8a-8f43-5b547f2d3f39"
      },
      "source": [
        "df.shape"
      ],
      "id": "7bf65575",
      "execution_count": null,
      "outputs": [
        {
          "output_type": "execute_result",
          "data": {
            "text/plain": [
              "(7032, 24)"
            ]
          },
          "metadata": {},
          "execution_count": 371
        }
      ]
    },
    {
      "cell_type": "code",
      "metadata": {
        "execution": {
          "iopub.execute_input": "2021-07-31T18:46:32.036827Z",
          "iopub.status.busy": "2021-07-31T18:46:32.036049Z",
          "iopub.status.idle": "2021-07-31T18:46:32.041578Z",
          "shell.execute_reply": "2021-07-31T18:46:32.040964Z",
          "shell.execute_reply.started": "2021-07-31T18:45:24.662448Z"
        },
        "papermill": {
          "duration": 0.296159,
          "end_time": "2021-07-31T18:46:32.041733",
          "exception": false,
          "start_time": "2021-07-31T18:46:31.745574",
          "status": "completed"
        },
        "tags": [],
        "colab": {
          "base_uri": "https://localhost:8080/"
        },
        "id": "94259f92",
        "outputId": "7e9141d1-cf2c-4193-90fc-fbb0fcf135b9"
      },
      "source": [
        "df.columns"
      ],
      "id": "94259f92",
      "execution_count": null,
      "outputs": [
        {
          "output_type": "execute_result",
          "data": {
            "text/plain": [
              "Index(['gender', 'SeniorCitizen', 'Partner', 'Dependents', 'tenure',\n",
              "       'PhoneService', 'MultipleLines', 'OnlineSecurity', 'OnlineBackup',\n",
              "       'DeviceProtection', 'TechSupport', 'StreamingTV', 'StreamingMovies',\n",
              "       'PaperlessBilling', 'MonthlyCharges', 'TotalCharges', 'Churn',\n",
              "       'InternetService_Fiber optic', 'InternetService_No',\n",
              "       'Contract_One year', 'Contract_Two year',\n",
              "       'PaymentMethod_Credit card (automatic)',\n",
              "       'PaymentMethod_Electronic check', 'PaymentMethod_Mailed check'],\n",
              "      dtype='object')"
            ]
          },
          "metadata": {},
          "execution_count": 372
        }
      ]
    },
    {
      "cell_type": "code",
      "metadata": {
        "execution": {
          "iopub.execute_input": "2021-07-31T18:46:32.618919Z",
          "iopub.status.busy": "2021-07-31T18:46:32.618026Z",
          "iopub.status.idle": "2021-07-31T18:46:32.621073Z",
          "shell.execute_reply": "2021-07-31T18:46:32.621618Z",
          "shell.execute_reply.started": "2021-07-31T18:45:24.678519Z"
        },
        "papermill": {
          "duration": 0.296784,
          "end_time": "2021-07-31T18:46:32.621799",
          "exception": false,
          "start_time": "2021-07-31T18:46:32.325015",
          "status": "completed"
        },
        "tags": [],
        "colab": {
          "base_uri": "https://localhost:8080/"
        },
        "id": "412b1391",
        "outputId": "441be2f0-e261-46f2-dd7a-84de0e09bd12"
      },
      "source": [
        "for i in df.columns:\n",
        "    if (df[i].dtypes == \"int64\")  | (df[i].dtypes== \"float64\"):\n",
        "        print(i)"
      ],
      "id": "412b1391",
      "execution_count": null,
      "outputs": [
        {
          "output_type": "stream",
          "text": [
            "gender\n",
            "SeniorCitizen\n",
            "tenure\n",
            "MonthlyCharges\n",
            "TotalCharges\n"
          ],
          "name": "stdout"
        }
      ]
    },
    {
      "cell_type": "markdown",
      "metadata": {
        "papermill": {
          "duration": 0.284162,
          "end_time": "2021-07-31T18:46:33.188355",
          "exception": false,
          "start_time": "2021-07-31T18:46:32.904193",
          "status": "completed"
        },
        "tags": [],
        "id": "c84c4c1e"
      },
      "source": [
        "* Above feature column have numerical data so we will need to bring it into a particular range if they varies a lot"
      ],
      "id": "c84c4c1e"
    },
    {
      "cell_type": "code",
      "metadata": {
        "execution": {
          "iopub.execute_input": "2021-07-31T18:46:33.828357Z",
          "iopub.status.busy": "2021-07-31T18:46:33.827609Z",
          "iopub.status.idle": "2021-07-31T18:46:33.960985Z",
          "shell.execute_reply": "2021-07-31T18:46:33.961830Z",
          "shell.execute_reply.started": "2021-07-31T18:45:24.694186Z"
        },
        "papermill": {
          "duration": 0.490116,
          "end_time": "2021-07-31T18:46:33.962004",
          "exception": false,
          "start_time": "2021-07-31T18:46:33.471888",
          "status": "completed"
        },
        "tags": [],
        "id": "17aa75cd"
      },
      "source": [
        "# Using MinMaxScaler of Feature Scaling\n",
        "\n",
        "from sklearn.preprocessing import MinMaxScaler\n",
        "scaler = MinMaxScaler()"
      ],
      "id": "17aa75cd",
      "execution_count": null,
      "outputs": []
    },
    {
      "cell_type": "markdown",
      "metadata": {
        "papermill": {
          "duration": 0.282444,
          "end_time": "2021-07-31T18:46:34.527154",
          "exception": false,
          "start_time": "2021-07-31T18:46:34.244710",
          "status": "completed"
        },
        "tags": [],
        "id": "a005f58b"
      },
      "source": [
        "* Here we will consider gender and seniorcitizen because because their values already present in a small scale of 0 or 1\n",
        "* So we will consider only \"tenure\", \"MonthlyCharges\", \"TotalCharges\""
      ],
      "id": "a005f58b"
    },
    {
      "cell_type": "code",
      "metadata": {
        "execution": {
          "iopub.execute_input": "2021-07-31T18:46:35.096998Z",
          "iopub.status.busy": "2021-07-31T18:46:35.096353Z",
          "iopub.status.idle": "2021-07-31T18:46:35.113710Z",
          "shell.execute_reply": "2021-07-31T18:46:35.113179Z",
          "shell.execute_reply.started": "2021-07-31T18:45:24.921697Z"
        },
        "papermill": {
          "duration": 0.304467,
          "end_time": "2021-07-31T18:46:35.113850",
          "exception": false,
          "start_time": "2021-07-31T18:46:34.809383",
          "status": "completed"
        },
        "tags": [],
        "colab": {
          "base_uri": "https://localhost:8080/",
          "height": 203
        },
        "id": "90d40764",
        "outputId": "32604537-d51d-41a5-bb32-2faa1873afb8"
      },
      "source": [
        "large_cols = [\"tenure\", \"MonthlyCharges\", \"TotalCharges\"]\n",
        "df[large_cols] = scaler.fit_transform(df[large_cols])\n",
        "df[large_cols].head()"
      ],
      "id": "90d40764",
      "execution_count": null,
      "outputs": [
        {
          "output_type": "execute_result",
          "data": {
            "text/html": [
              "<div>\n",
              "<style scoped>\n",
              "    .dataframe tbody tr th:only-of-type {\n",
              "        vertical-align: middle;\n",
              "    }\n",
              "\n",
              "    .dataframe tbody tr th {\n",
              "        vertical-align: top;\n",
              "    }\n",
              "\n",
              "    .dataframe thead th {\n",
              "        text-align: right;\n",
              "    }\n",
              "</style>\n",
              "<table border=\"1\" class=\"dataframe\">\n",
              "  <thead>\n",
              "    <tr style=\"text-align: right;\">\n",
              "      <th></th>\n",
              "      <th>tenure</th>\n",
              "      <th>MonthlyCharges</th>\n",
              "      <th>TotalCharges</th>\n",
              "    </tr>\n",
              "  </thead>\n",
              "  <tbody>\n",
              "    <tr>\n",
              "      <th>0</th>\n",
              "      <td>0.000000</td>\n",
              "      <td>0.115423</td>\n",
              "      <td>0.001275</td>\n",
              "    </tr>\n",
              "    <tr>\n",
              "      <th>1</th>\n",
              "      <td>0.464789</td>\n",
              "      <td>0.385075</td>\n",
              "      <td>0.215867</td>\n",
              "    </tr>\n",
              "    <tr>\n",
              "      <th>2</th>\n",
              "      <td>0.014085</td>\n",
              "      <td>0.354229</td>\n",
              "      <td>0.010310</td>\n",
              "    </tr>\n",
              "    <tr>\n",
              "      <th>3</th>\n",
              "      <td>0.619718</td>\n",
              "      <td>0.239303</td>\n",
              "      <td>0.210241</td>\n",
              "    </tr>\n",
              "    <tr>\n",
              "      <th>4</th>\n",
              "      <td>0.014085</td>\n",
              "      <td>0.521891</td>\n",
              "      <td>0.015330</td>\n",
              "    </tr>\n",
              "  </tbody>\n",
              "</table>\n",
              "</div>"
            ],
            "text/plain": [
              "     tenure  MonthlyCharges  TotalCharges\n",
              "0  0.000000        0.115423      0.001275\n",
              "1  0.464789        0.385075      0.215867\n",
              "2  0.014085        0.354229      0.010310\n",
              "3  0.619718        0.239303      0.210241\n",
              "4  0.014085        0.521891      0.015330"
            ]
          },
          "metadata": {},
          "execution_count": 375
        }
      ]
    },
    {
      "cell_type": "code",
      "metadata": {
        "execution": {
          "iopub.execute_input": "2021-07-31T18:46:35.688745Z",
          "iopub.status.busy": "2021-07-31T18:46:35.688090Z",
          "iopub.status.idle": "2021-07-31T18:46:35.713660Z",
          "shell.execute_reply": "2021-07-31T18:46:35.713001Z",
          "shell.execute_reply.started": "2021-07-31T18:45:24.945182Z"
        },
        "papermill": {
          "duration": 0.311517,
          "end_time": "2021-07-31T18:46:35.713803",
          "exception": false,
          "start_time": "2021-07-31T18:46:35.402286",
          "status": "completed"
        },
        "tags": [],
        "colab": {
          "base_uri": "https://localhost:8080/",
          "height": 240
        },
        "id": "884b9998",
        "outputId": "ee64e992-3bc5-40ec-d97e-2413d7dbb521"
      },
      "source": [
        "# After feature scaling we have following dataset\n",
        "\n",
        "df.head()"
      ],
      "id": "884b9998",
      "execution_count": null,
      "outputs": [
        {
          "output_type": "execute_result",
          "data": {
            "text/html": [
              "<div>\n",
              "<style scoped>\n",
              "    .dataframe tbody tr th:only-of-type {\n",
              "        vertical-align: middle;\n",
              "    }\n",
              "\n",
              "    .dataframe tbody tr th {\n",
              "        vertical-align: top;\n",
              "    }\n",
              "\n",
              "    .dataframe thead th {\n",
              "        text-align: right;\n",
              "    }\n",
              "</style>\n",
              "<table border=\"1\" class=\"dataframe\">\n",
              "  <thead>\n",
              "    <tr style=\"text-align: right;\">\n",
              "      <th></th>\n",
              "      <th>gender</th>\n",
              "      <th>SeniorCitizen</th>\n",
              "      <th>Partner</th>\n",
              "      <th>Dependents</th>\n",
              "      <th>tenure</th>\n",
              "      <th>PhoneService</th>\n",
              "      <th>MultipleLines</th>\n",
              "      <th>OnlineSecurity</th>\n",
              "      <th>OnlineBackup</th>\n",
              "      <th>DeviceProtection</th>\n",
              "      <th>TechSupport</th>\n",
              "      <th>StreamingTV</th>\n",
              "      <th>StreamingMovies</th>\n",
              "      <th>PaperlessBilling</th>\n",
              "      <th>MonthlyCharges</th>\n",
              "      <th>TotalCharges</th>\n",
              "      <th>Churn</th>\n",
              "      <th>InternetService_Fiber optic</th>\n",
              "      <th>InternetService_No</th>\n",
              "      <th>Contract_One year</th>\n",
              "      <th>Contract_Two year</th>\n",
              "      <th>PaymentMethod_Credit card (automatic)</th>\n",
              "      <th>PaymentMethod_Electronic check</th>\n",
              "      <th>PaymentMethod_Mailed check</th>\n",
              "    </tr>\n",
              "  </thead>\n",
              "  <tbody>\n",
              "    <tr>\n",
              "      <th>0</th>\n",
              "      <td>1</td>\n",
              "      <td>0</td>\n",
              "      <td>Yes</td>\n",
              "      <td>No</td>\n",
              "      <td>0.000000</td>\n",
              "      <td>No</td>\n",
              "      <td>No</td>\n",
              "      <td>No</td>\n",
              "      <td>Yes</td>\n",
              "      <td>No</td>\n",
              "      <td>No</td>\n",
              "      <td>No</td>\n",
              "      <td>No</td>\n",
              "      <td>Yes</td>\n",
              "      <td>0.115423</td>\n",
              "      <td>0.001275</td>\n",
              "      <td>No</td>\n",
              "      <td>0</td>\n",
              "      <td>0</td>\n",
              "      <td>0</td>\n",
              "      <td>0</td>\n",
              "      <td>0</td>\n",
              "      <td>1</td>\n",
              "      <td>0</td>\n",
              "    </tr>\n",
              "    <tr>\n",
              "      <th>1</th>\n",
              "      <td>0</td>\n",
              "      <td>0</td>\n",
              "      <td>No</td>\n",
              "      <td>No</td>\n",
              "      <td>0.464789</td>\n",
              "      <td>Yes</td>\n",
              "      <td>No</td>\n",
              "      <td>Yes</td>\n",
              "      <td>No</td>\n",
              "      <td>Yes</td>\n",
              "      <td>No</td>\n",
              "      <td>No</td>\n",
              "      <td>No</td>\n",
              "      <td>No</td>\n",
              "      <td>0.385075</td>\n",
              "      <td>0.215867</td>\n",
              "      <td>No</td>\n",
              "      <td>0</td>\n",
              "      <td>0</td>\n",
              "      <td>1</td>\n",
              "      <td>0</td>\n",
              "      <td>0</td>\n",
              "      <td>0</td>\n",
              "      <td>1</td>\n",
              "    </tr>\n",
              "    <tr>\n",
              "      <th>2</th>\n",
              "      <td>0</td>\n",
              "      <td>0</td>\n",
              "      <td>No</td>\n",
              "      <td>No</td>\n",
              "      <td>0.014085</td>\n",
              "      <td>Yes</td>\n",
              "      <td>No</td>\n",
              "      <td>Yes</td>\n",
              "      <td>Yes</td>\n",
              "      <td>No</td>\n",
              "      <td>No</td>\n",
              "      <td>No</td>\n",
              "      <td>No</td>\n",
              "      <td>Yes</td>\n",
              "      <td>0.354229</td>\n",
              "      <td>0.010310</td>\n",
              "      <td>Yes</td>\n",
              "      <td>0</td>\n",
              "      <td>0</td>\n",
              "      <td>0</td>\n",
              "      <td>0</td>\n",
              "      <td>0</td>\n",
              "      <td>0</td>\n",
              "      <td>1</td>\n",
              "    </tr>\n",
              "    <tr>\n",
              "      <th>3</th>\n",
              "      <td>0</td>\n",
              "      <td>0</td>\n",
              "      <td>No</td>\n",
              "      <td>No</td>\n",
              "      <td>0.619718</td>\n",
              "      <td>No</td>\n",
              "      <td>No</td>\n",
              "      <td>Yes</td>\n",
              "      <td>No</td>\n",
              "      <td>Yes</td>\n",
              "      <td>Yes</td>\n",
              "      <td>No</td>\n",
              "      <td>No</td>\n",
              "      <td>No</td>\n",
              "      <td>0.239303</td>\n",
              "      <td>0.210241</td>\n",
              "      <td>No</td>\n",
              "      <td>0</td>\n",
              "      <td>0</td>\n",
              "      <td>1</td>\n",
              "      <td>0</td>\n",
              "      <td>0</td>\n",
              "      <td>0</td>\n",
              "      <td>0</td>\n",
              "    </tr>\n",
              "    <tr>\n",
              "      <th>4</th>\n",
              "      <td>1</td>\n",
              "      <td>0</td>\n",
              "      <td>No</td>\n",
              "      <td>No</td>\n",
              "      <td>0.014085</td>\n",
              "      <td>Yes</td>\n",
              "      <td>No</td>\n",
              "      <td>No</td>\n",
              "      <td>No</td>\n",
              "      <td>No</td>\n",
              "      <td>No</td>\n",
              "      <td>No</td>\n",
              "      <td>No</td>\n",
              "      <td>Yes</td>\n",
              "      <td>0.521891</td>\n",
              "      <td>0.015330</td>\n",
              "      <td>Yes</td>\n",
              "      <td>1</td>\n",
              "      <td>0</td>\n",
              "      <td>0</td>\n",
              "      <td>0</td>\n",
              "      <td>0</td>\n",
              "      <td>1</td>\n",
              "      <td>0</td>\n",
              "    </tr>\n",
              "  </tbody>\n",
              "</table>\n",
              "</div>"
            ],
            "text/plain": [
              "   gender  ...  PaymentMethod_Mailed check\n",
              "0       1  ...                           0\n",
              "1       0  ...                           1\n",
              "2       0  ...                           1\n",
              "3       0  ...                           0\n",
              "4       1  ...                           0\n",
              "\n",
              "[5 rows x 24 columns]"
            ]
          },
          "metadata": {},
          "execution_count": 376
        }
      ]
    },
    {
      "cell_type": "code",
      "metadata": {
        "execution": {
          "iopub.execute_input": "2021-07-31T18:46:36.291098Z",
          "iopub.status.busy": "2021-07-31T18:46:36.289580Z",
          "iopub.status.idle": "2021-07-31T18:46:36.297496Z",
          "shell.execute_reply": "2021-07-31T18:46:36.297975Z",
          "shell.execute_reply.started": "2021-07-31T18:45:24.965226Z"
        },
        "papermill": {
          "duration": 0.298617,
          "end_time": "2021-07-31T18:46:36.298183",
          "exception": false,
          "start_time": "2021-07-31T18:46:35.999566",
          "status": "completed"
        },
        "tags": [],
        "colab": {
          "base_uri": "https://localhost:8080/"
        },
        "id": "f8a17b17",
        "outputId": "653beda4-a3b3-4bcb-8edb-78a1977dd8c3"
      },
      "source": [
        "for i in df.columns:\n",
        "    if (df[i].dtypes == \"object\"):\n",
        "        print(i)"
      ],
      "id": "f8a17b17",
      "execution_count": null,
      "outputs": [
        {
          "output_type": "stream",
          "text": [
            "Partner\n",
            "Dependents\n",
            "PhoneService\n",
            "MultipleLines\n",
            "OnlineSecurity\n",
            "OnlineBackup\n",
            "DeviceProtection\n",
            "TechSupport\n",
            "StreamingTV\n",
            "StreamingMovies\n",
            "PaperlessBilling\n",
            "Churn\n"
          ],
          "name": "stdout"
        }
      ]
    },
    {
      "cell_type": "markdown",
      "metadata": {
        "papermill": {
          "duration": 0.285229,
          "end_time": "2021-07-31T18:46:36.871183",
          "exception": false,
          "start_time": "2021-07-31T18:46:36.585954",
          "status": "completed"
        },
        "tags": [],
        "id": "ed7ee093"
      },
      "source": [
        "* All the column present above have object type of dataset in them i.e here only \"Yes\" or \"No\""
      ],
      "id": "ed7ee093"
    },
    {
      "cell_type": "code",
      "metadata": {
        "execution": {
          "iopub.execute_input": "2021-07-31T18:46:37.455870Z",
          "iopub.status.busy": "2021-07-31T18:46:37.453712Z",
          "iopub.status.idle": "2021-07-31T18:46:37.542559Z",
          "shell.execute_reply": "2021-07-31T18:46:37.541906Z",
          "shell.execute_reply.started": "2021-07-31T18:45:24.982383Z"
        },
        "papermill": {
          "duration": 0.388501,
          "end_time": "2021-07-31T18:46:37.542693",
          "exception": false,
          "start_time": "2021-07-31T18:46:37.154192",
          "status": "completed"
        },
        "tags": [],
        "colab": {
          "base_uri": "https://localhost:8080/",
          "height": 240
        },
        "id": "6904aab0",
        "outputId": "77f86cef-1c8c-4093-da9d-29f9283a273e"
      },
      "source": [
        "two_cate = ['Partner', 'Dependents', 'PhoneService', 'MultipleLines', 'OnlineSecurity', 'OnlineBackup', 'DeviceProtection', 'TechSupport', 'StreamingTV', 'StreamingMovies', 'PaperlessBilling', 'Churn']\n",
        "for i in two_cate:\n",
        "    df[i].replace({\"No\":0, \"Yes\":1}, inplace=True)\n",
        "df.head()"
      ],
      "id": "6904aab0",
      "execution_count": null,
      "outputs": [
        {
          "output_type": "execute_result",
          "data": {
            "text/html": [
              "<div>\n",
              "<style scoped>\n",
              "    .dataframe tbody tr th:only-of-type {\n",
              "        vertical-align: middle;\n",
              "    }\n",
              "\n",
              "    .dataframe tbody tr th {\n",
              "        vertical-align: top;\n",
              "    }\n",
              "\n",
              "    .dataframe thead th {\n",
              "        text-align: right;\n",
              "    }\n",
              "</style>\n",
              "<table border=\"1\" class=\"dataframe\">\n",
              "  <thead>\n",
              "    <tr style=\"text-align: right;\">\n",
              "      <th></th>\n",
              "      <th>gender</th>\n",
              "      <th>SeniorCitizen</th>\n",
              "      <th>Partner</th>\n",
              "      <th>Dependents</th>\n",
              "      <th>tenure</th>\n",
              "      <th>PhoneService</th>\n",
              "      <th>MultipleLines</th>\n",
              "      <th>OnlineSecurity</th>\n",
              "      <th>OnlineBackup</th>\n",
              "      <th>DeviceProtection</th>\n",
              "      <th>TechSupport</th>\n",
              "      <th>StreamingTV</th>\n",
              "      <th>StreamingMovies</th>\n",
              "      <th>PaperlessBilling</th>\n",
              "      <th>MonthlyCharges</th>\n",
              "      <th>TotalCharges</th>\n",
              "      <th>Churn</th>\n",
              "      <th>InternetService_Fiber optic</th>\n",
              "      <th>InternetService_No</th>\n",
              "      <th>Contract_One year</th>\n",
              "      <th>Contract_Two year</th>\n",
              "      <th>PaymentMethod_Credit card (automatic)</th>\n",
              "      <th>PaymentMethod_Electronic check</th>\n",
              "      <th>PaymentMethod_Mailed check</th>\n",
              "    </tr>\n",
              "  </thead>\n",
              "  <tbody>\n",
              "    <tr>\n",
              "      <th>0</th>\n",
              "      <td>1</td>\n",
              "      <td>0</td>\n",
              "      <td>1</td>\n",
              "      <td>0</td>\n",
              "      <td>0.000000</td>\n",
              "      <td>0</td>\n",
              "      <td>0</td>\n",
              "      <td>0</td>\n",
              "      <td>1</td>\n",
              "      <td>0</td>\n",
              "      <td>0</td>\n",
              "      <td>0</td>\n",
              "      <td>0</td>\n",
              "      <td>1</td>\n",
              "      <td>0.115423</td>\n",
              "      <td>0.001275</td>\n",
              "      <td>0</td>\n",
              "      <td>0</td>\n",
              "      <td>0</td>\n",
              "      <td>0</td>\n",
              "      <td>0</td>\n",
              "      <td>0</td>\n",
              "      <td>1</td>\n",
              "      <td>0</td>\n",
              "    </tr>\n",
              "    <tr>\n",
              "      <th>1</th>\n",
              "      <td>0</td>\n",
              "      <td>0</td>\n",
              "      <td>0</td>\n",
              "      <td>0</td>\n",
              "      <td>0.464789</td>\n",
              "      <td>1</td>\n",
              "      <td>0</td>\n",
              "      <td>1</td>\n",
              "      <td>0</td>\n",
              "      <td>1</td>\n",
              "      <td>0</td>\n",
              "      <td>0</td>\n",
              "      <td>0</td>\n",
              "      <td>0</td>\n",
              "      <td>0.385075</td>\n",
              "      <td>0.215867</td>\n",
              "      <td>0</td>\n",
              "      <td>0</td>\n",
              "      <td>0</td>\n",
              "      <td>1</td>\n",
              "      <td>0</td>\n",
              "      <td>0</td>\n",
              "      <td>0</td>\n",
              "      <td>1</td>\n",
              "    </tr>\n",
              "    <tr>\n",
              "      <th>2</th>\n",
              "      <td>0</td>\n",
              "      <td>0</td>\n",
              "      <td>0</td>\n",
              "      <td>0</td>\n",
              "      <td>0.014085</td>\n",
              "      <td>1</td>\n",
              "      <td>0</td>\n",
              "      <td>1</td>\n",
              "      <td>1</td>\n",
              "      <td>0</td>\n",
              "      <td>0</td>\n",
              "      <td>0</td>\n",
              "      <td>0</td>\n",
              "      <td>1</td>\n",
              "      <td>0.354229</td>\n",
              "      <td>0.010310</td>\n",
              "      <td>1</td>\n",
              "      <td>0</td>\n",
              "      <td>0</td>\n",
              "      <td>0</td>\n",
              "      <td>0</td>\n",
              "      <td>0</td>\n",
              "      <td>0</td>\n",
              "      <td>1</td>\n",
              "    </tr>\n",
              "    <tr>\n",
              "      <th>3</th>\n",
              "      <td>0</td>\n",
              "      <td>0</td>\n",
              "      <td>0</td>\n",
              "      <td>0</td>\n",
              "      <td>0.619718</td>\n",
              "      <td>0</td>\n",
              "      <td>0</td>\n",
              "      <td>1</td>\n",
              "      <td>0</td>\n",
              "      <td>1</td>\n",
              "      <td>1</td>\n",
              "      <td>0</td>\n",
              "      <td>0</td>\n",
              "      <td>0</td>\n",
              "      <td>0.239303</td>\n",
              "      <td>0.210241</td>\n",
              "      <td>0</td>\n",
              "      <td>0</td>\n",
              "      <td>0</td>\n",
              "      <td>1</td>\n",
              "      <td>0</td>\n",
              "      <td>0</td>\n",
              "      <td>0</td>\n",
              "      <td>0</td>\n",
              "    </tr>\n",
              "    <tr>\n",
              "      <th>4</th>\n",
              "      <td>1</td>\n",
              "      <td>0</td>\n",
              "      <td>0</td>\n",
              "      <td>0</td>\n",
              "      <td>0.014085</td>\n",
              "      <td>1</td>\n",
              "      <td>0</td>\n",
              "      <td>0</td>\n",
              "      <td>0</td>\n",
              "      <td>0</td>\n",
              "      <td>0</td>\n",
              "      <td>0</td>\n",
              "      <td>0</td>\n",
              "      <td>1</td>\n",
              "      <td>0.521891</td>\n",
              "      <td>0.015330</td>\n",
              "      <td>1</td>\n",
              "      <td>1</td>\n",
              "      <td>0</td>\n",
              "      <td>0</td>\n",
              "      <td>0</td>\n",
              "      <td>0</td>\n",
              "      <td>1</td>\n",
              "      <td>0</td>\n",
              "    </tr>\n",
              "  </tbody>\n",
              "</table>\n",
              "</div>"
            ],
            "text/plain": [
              "   gender  ...  PaymentMethod_Mailed check\n",
              "0       1  ...                           0\n",
              "1       0  ...                           1\n",
              "2       0  ...                           1\n",
              "3       0  ...                           0\n",
              "4       1  ...                           0\n",
              "\n",
              "[5 rows x 24 columns]"
            ]
          },
          "metadata": {},
          "execution_count": 378
        }
      ]
    },
    {
      "cell_type": "code",
      "metadata": {
        "colab": {
          "base_uri": "https://localhost:8080/"
        },
        "id": "IeiumF2kKSLZ",
        "outputId": "6a1d289d-6084-4c4e-9e97-7307fbd81c09"
      },
      "source": [
        "print(list(df.columns.values))"
      ],
      "id": "IeiumF2kKSLZ",
      "execution_count": null,
      "outputs": [
        {
          "output_type": "stream",
          "text": [
            "['gender', 'SeniorCitizen', 'Partner', 'Dependents', 'tenure', 'PhoneService', 'MultipleLines', 'OnlineSecurity', 'OnlineBackup', 'DeviceProtection', 'TechSupport', 'StreamingTV', 'StreamingMovies', 'PaperlessBilling', 'MonthlyCharges', 'TotalCharges', 'Churn', 'InternetService_Fiber optic', 'InternetService_No', 'Contract_One year', 'Contract_Two year', 'PaymentMethod_Credit card (automatic)', 'PaymentMethod_Electronic check', 'PaymentMethod_Mailed check']\n"
          ],
          "name": "stdout"
        }
      ]
    },
    {
      "cell_type": "code",
      "metadata": {
        "id": "3KiMchAJLDNZ"
      },
      "source": [
        "two_cat = ['gender', 'SeniorCitizen', 'Partner', 'Dependents', 'PhoneService', 'MultipleLines', 'OnlineSecurity', 'OnlineBackup', 'DeviceProtection', 'TechSupport', 'StreamingTV', 'StreamingMovies', 'PaperlessBilling', 'Churn', 'InternetService_Fiber optic', 'InternetService_No', 'Contract_One year', 'Contract_Two year', 'PaymentMethod_Credit card (automatic)', 'PaymentMethod_Electronic check', 'PaymentMethod_Mailed check']"
      ],
      "id": "3KiMchAJLDNZ",
      "execution_count": null,
      "outputs": []
    },
    {
      "cell_type": "code",
      "metadata": {
        "colab": {
          "base_uri": "https://localhost:8080/",
          "height": 1000
        },
        "id": "R0LV4FnxKMLV",
        "outputId": "a0d494ba-07d5-4656-bf23-df408eba12ca"
      },
      "source": [
        "for col in two_cat:\n",
        "  plt.figure(figsize=(5, 5))\n",
        "  sns.barplot(data = df, y=col, x=\"Churn\")"
      ],
      "id": "R0LV4FnxKMLV",
      "execution_count": null,
      "outputs": [
        {
          "output_type": "display_data",
          "data": {
            "image/png": "[encoded data removed]",
            "text/plain": [
              "<Figure size 360x360 with 1 Axes>"
            ]
          },
          "metadata": {
            "needs_background": "light"
          }
        },
        {
          "output_type": "display_data",
          "data": {
            "image/png": "[encoded data removed]",
            "text/plain": [
              "<Figure size 360x360 with 1 Axes>"
            ]
          },
          "metadata": {
            "needs_background": "light"
          }
        },
        {
          "output_type": "display_data",
          "data": {
            "image/png": "[encoded data removed]",
            "text/plain": [
              "<Figure size 360x360 with 1 Axes>"
            ]
          },
          "metadata": {
            "needs_background": "light"
          }
        },
        {
          "output_type": "display_data",
          "data": {
            "image/png": "[encoded data removed]",
            "text/plain": [
              "<Figure size 360x360 with 1 Axes>"
            ]
          },
          "metadata": {
            "needs_background": "light"
          }
        },
        {
          "output_type": "display_data",
          "data": {
            "image/png": "[encoded data removed]",
            "text/plain": [
              "<Figure size 360x360 with 1 Axes>"
            ]
          },
          "metadata": {
            "needs_background": "light"
          }
        },
        {
          "output_type": "display_data",
          "data": {
            "image/png": "[encoded data removed]",
            "text/plain": [
              "<Figure size 360x360 with 1 Axes>"
            ]
          },
          "metadata": {
            "needs_background": "light"
          }
        },
        {
          "output_type": "display_data",
          "data": {
            "image/png": "[encoded data removed]",
            "text/plain": [
              "<Figure size 360x360 with 1 Axes>"
            ]
          },
          "metadata": {
            "needs_background": "light"
          }
        },
        {
          "output_type": "display_data",
          "data": {
            "image/png": "[encoded data removed]",
            "text/plain": [
              "<Figure size 360x360 with 1 Axes>"
            ]
          },
          "metadata": {
            "needs_background": "light"
          }
        },
        {
          "output_type": "display_data",
          "data": {
            "image/png": "[encoded data removed]",
            "text/plain": [
              "<Figure size 360x360 with 1 Axes>"
            ]
          },
          "metadata": {
            "needs_background": "light"
          }
        },
        {
          "output_type": "display_data",
          "data": {
            "image/png": "[encoded data removed]",
            "text/plain": [
              "<Figure size 360x360 with 1 Axes>"
            ]
          },
          "metadata": {
            "needs_background": "light"
          }
        },
        {
          "output_type": "display_data",
          "data": {
            "image/png": "[encoded data removed]",
            "text/plain": [
              "<Figure size 360x360 with 1 Axes>"
            ]
          },
          "metadata": {
            "needs_background": "light"
          }
        },
        {
          "output_type": "display_data",
          "data": {
            "image/png": "[encoded data removed]",
            "text/plain": [
              "<Figure size 360x360 with 1 Axes>"
            ]
          },
          "metadata": {
            "needs_background": "light"
          }
        },
        {
          "output_type": "display_data",
          "data": {
            "image/png": "[encoded data removed]",
            "text/plain": [
              "<Figure size 360x360 with 1 Axes>"
            ]
          },
          "metadata": {
            "needs_background": "light"
          }
        },
        {
          "output_type": "display_data",
          "data": {
            "image/png": "[encoded data removed]",
            "text/plain": [
              "<Figure size 360x360 with 1 Axes>"
            ]
          },
          "metadata": {
            "needs_background": "light"
          }
        },
        {
          "output_type": "display_data",
          "data": {
            "image/png": "[encoded data removed]",
            "text/plain": [
              "<Figure size 360x360 with 1 Axes>"
            ]
          },
          "metadata": {
            "needs_background": "light"
          }
        },
        {
          "output_type": "display_data",
          "data": {
            "image/png": "[encoded data removed]",
            "text/plain": [
              "<Figure size 360x360 with 1 Axes>"
            ]
          },
          "metadata": {
            "needs_background": "light"
          }
        },
        {
          "output_type": "display_data",
          "data": {
            "image/png": "[encoded data removed]",
            "text/plain": [
              "<Figure size 360x360 with 1 Axes>"
            ]
          },
          "metadata": {
            "needs_background": "light"
          }
        },
        {
          "output_type": "display_data",
          "data": {
            "image/png": "[encoded data removed]",
            "text/plain": [
              "<Figure size 360x360 with 1 Axes>"
            ]
          },
          "metadata": {
            "needs_background": "light"
          }
        },
        {
          "output_type": "display_data",
          "data": {
            "image/png": "[encoded data removed]",
            "text/plain": [
              "<Figure size 360x360 with 1 Axes>"
            ]
          },
          "metadata": {
            "needs_background": "light"
          }
        },
        {
          "output_type": "display_data",
          "data": {
            "image/png": "[encoded data removed]",
            "text/plain": [
              "<Figure size 360x360 with 1 Axes>"
            ]
          },
          "metadata": {
            "needs_background": "light"
          }
        },
        {
          "output_type": "display_data",
          "data": {
            "image/png": "[encoded data removed]",
            "text/plain": [
              "<Figure size 360x360 with 1 Axes>"
            ]
          },
          "metadata": {
            "needs_background": "light"
          }
        }
      ]
    },
    {
      "cell_type": "code",
      "metadata": {
        "execution": {
          "iopub.execute_input": "2021-07-31T18:46:38.025620Z",
          "iopub.status.busy": "2021-07-31T18:46:38.025073Z",
          "iopub.status.idle": "2021-07-31T18:46:38.030946Z",
          "shell.execute_reply": "2021-07-31T18:46:38.030527Z",
          "shell.execute_reply.started": "2021-07-31T18:45:25.047896Z"
        },
        "papermill": {
          "duration": 0.184391,
          "end_time": "2021-07-31T18:46:38.031063",
          "exception": false,
          "start_time": "2021-07-31T18:46:37.846672",
          "status": "completed"
        },
        "tags": [],
        "id": "b2d9936d"
      },
      "source": [
        "# Splitting Dataset into train and test set\n",
        "\n",
        "X = df.drop('Churn', axis=1)\n",
        "y = df['Churn']"
      ],
      "id": "b2d9936d",
      "execution_count": null,
      "outputs": []
    },
    {
      "cell_type": "code",
      "metadata": {
        "execution": {
          "iopub.execute_input": "2021-07-31T18:46:38.386053Z",
          "iopub.status.busy": "2021-07-31T18:46:38.385407Z",
          "iopub.status.idle": "2021-07-31T18:46:38.392232Z",
          "shell.execute_reply": "2021-07-31T18:46:38.391653Z",
          "shell.execute_reply.started": "2021-07-31T18:45:25.057177Z"
        },
        "papermill": {
          "duration": 0.184567,
          "end_time": "2021-07-31T18:46:38.392434",
          "exception": false,
          "start_time": "2021-07-31T18:46:38.207867",
          "status": "completed"
        },
        "tags": [],
        "colab": {
          "base_uri": "https://localhost:8080/"
        },
        "id": "beb1b545",
        "outputId": "76a30e08-c5c9-49df-cc10-dadeeae8f8da"
      },
      "source": [
        "X.shape, y.shape"
      ],
      "id": "beb1b545",
      "execution_count": null,
      "outputs": [
        {
          "output_type": "execute_result",
          "data": {
            "text/plain": [
              "((7032, 23), (7032,))"
            ]
          },
          "metadata": {},
          "execution_count": 380
        }
      ]
    },
    {
      "cell_type": "code",
      "metadata": {
        "execution": {
          "iopub.execute_input": "2021-07-31T18:46:38.967401Z",
          "iopub.status.busy": "2021-07-31T18:46:38.966771Z",
          "iopub.status.idle": "2021-07-31T18:46:39.038865Z",
          "shell.execute_reply": "2021-07-31T18:46:39.038235Z",
          "shell.execute_reply.started": "2021-07-31T18:45:25.070856Z"
        },
        "papermill": {
          "duration": 0.361176,
          "end_time": "2021-07-31T18:46:39.039005",
          "exception": false,
          "start_time": "2021-07-31T18:46:38.677829",
          "status": "completed"
        },
        "tags": [],
        "id": "7da1f3ca"
      },
      "source": [
        "# Performing Train Test Split\n",
        "\n",
        "from sklearn.model_selection import train_test_split\n",
        "X_train, X_test, y_train, y_test = train_test_split( X, y, test_size=0.2, random_state=42)"
      ],
      "id": "7da1f3ca",
      "execution_count": null,
      "outputs": []
    },
    {
      "cell_type": "markdown",
      "metadata": {
        "papermill": {
          "duration": 0.284918,
          "end_time": "2021-07-31T18:46:39.610584",
          "exception": false,
          "start_time": "2021-07-31T18:46:39.325666",
          "status": "completed"
        },
        "tags": [],
        "id": "f44bee7f"
      },
      "source": [
        "## Model Building"
      ],
      "id": "f44bee7f"
    },
    {
      "cell_type": "markdown",
      "metadata": {
        "papermill": {
          "duration": 0.287224,
          "end_time": "2021-07-31T18:46:40.184647",
          "exception": false,
          "start_time": "2021-07-31T18:46:39.897423",
          "status": "completed"
        },
        "tags": [],
        "id": "a47a6fe9"
      },
      "source": [
        "### Using Logistics Regression"
      ],
      "id": "a47a6fe9"
    },
    {
      "cell_type": "code",
      "metadata": {
        "execution": {
          "iopub.execute_input": "2021-07-31T18:46:40.759871Z",
          "iopub.status.busy": "2021-07-31T18:46:40.759202Z",
          "iopub.status.idle": "2021-07-31T18:46:41.055405Z",
          "shell.execute_reply": "2021-07-31T18:46:41.054823Z",
          "shell.execute_reply.started": "2021-07-31T18:45:25.132296Z"
        },
        "papermill": {
          "duration": 0.586268,
          "end_time": "2021-07-31T18:46:41.055552",
          "exception": false,
          "start_time": "2021-07-31T18:46:40.469284",
          "status": "completed"
        },
        "tags": [],
        "id": "a2115837"
      },
      "source": [
        "# Importing Logistic Regression\n",
        "\n",
        "from sklearn.linear_model import LogisticRegression\n",
        "from sklearn.metrics import confusion_matrix, accuracy_score, classification_report"
      ],
      "id": "a2115837",
      "execution_count": null,
      "outputs": []
    },
    {
      "cell_type": "code",
      "metadata": {
        "execution": {
          "iopub.execute_input": "2021-07-31T18:46:41.630371Z",
          "iopub.status.busy": "2021-07-31T18:46:41.629716Z",
          "iopub.status.idle": "2021-07-31T18:46:41.632507Z",
          "shell.execute_reply": "2021-07-31T18:46:41.632085Z",
          "shell.execute_reply.started": "2021-07-31T18:45:25.202488Z"
        },
        "papermill": {
          "duration": 0.291825,
          "end_time": "2021-07-31T18:46:41.632623",
          "exception": false,
          "start_time": "2021-07-31T18:46:41.340798",
          "status": "completed"
        },
        "tags": [],
        "id": "e1fc1d63"
      },
      "source": [
        "# creating object for model\n",
        "model_lg = LogisticRegression(max_iter=120,random_state=0, n_jobs=20)"
      ],
      "id": "e1fc1d63",
      "execution_count": null,
      "outputs": []
    },
    {
      "cell_type": "code",
      "metadata": {
        "execution": {
          "iopub.execute_input": "2021-07-31T18:46:41.987708Z",
          "iopub.status.busy": "2021-07-31T18:46:41.987020Z",
          "iopub.status.idle": "2021-07-31T18:46:44.762143Z",
          "shell.execute_reply": "2021-07-31T18:46:44.762982Z",
          "shell.execute_reply.started": "2021-07-31T18:45:25.207965Z"
        },
        "papermill": {
          "duration": 2.956492,
          "end_time": "2021-07-31T18:46:44.763201",
          "exception": false,
          "start_time": "2021-07-31T18:46:41.806709",
          "status": "completed"
        },
        "tags": [],
        "colab": {
          "base_uri": "https://localhost:8080/"
        },
        "id": "cc5b718e",
        "outputId": "64f417f6-9931-449a-e9dd-7a2bc4af316f"
      },
      "source": [
        "# Model Training\n",
        "\n",
        "model_lg.fit(X_train, y_train)"
      ],
      "id": "cc5b718e",
      "execution_count": null,
      "outputs": [
        {
          "output_type": "execute_result",
          "data": {
            "text/plain": [
              "LogisticRegression(C=1.0, class_weight=None, dual=False, fit_intercept=True,\n",
              "                   intercept_scaling=1, l1_ratio=None, max_iter=120,\n",
              "                   multi_class='auto', n_jobs=20, penalty='l2', random_state=0,\n",
              "                   solver='lbfgs', tol=0.0001, verbose=0, warm_start=False)"
            ]
          },
          "metadata": {},
          "execution_count": 384
        }
      ]
    },
    {
      "cell_type": "code",
      "metadata": {
        "execution": {
          "iopub.execute_input": "2021-07-31T18:46:45.431737Z",
          "iopub.status.busy": "2021-07-31T18:46:45.431040Z",
          "iopub.status.idle": "2021-07-31T18:46:45.437006Z",
          "shell.execute_reply": "2021-07-31T18:46:45.437713Z",
          "shell.execute_reply.started": "2021-07-31T18:45:27.511334Z"
        },
        "papermill": {
          "duration": 0.310978,
          "end_time": "2021-07-31T18:46:45.437918",
          "exception": false,
          "start_time": "2021-07-31T18:46:45.126940",
          "status": "completed"
        },
        "tags": [],
        "id": "2e11b5c9"
      },
      "source": [
        "# Making Predictions\n",
        "pred_lg = model_lg.predict(X_test)"
      ],
      "id": "2e11b5c9",
      "execution_count": null,
      "outputs": []
    },
    {
      "cell_type": "code",
      "metadata": {
        "execution": {
          "iopub.execute_input": "2021-07-31T18:46:46.043294Z",
          "iopub.status.busy": "2021-07-31T18:46:46.042546Z",
          "iopub.status.idle": "2021-07-31T18:46:46.046527Z",
          "shell.execute_reply": "2021-07-31T18:46:46.047178Z",
          "shell.execute_reply.started": "2021-07-31T18:45:27.531051Z"
        },
        "papermill": {
          "duration": 0.304638,
          "end_time": "2021-07-31T18:46:46.047667",
          "exception": false,
          "start_time": "2021-07-31T18:46:45.743029",
          "status": "completed"
        },
        "tags": [],
        "colab": {
          "base_uri": "https://localhost:8080/"
        },
        "id": "65a5ed96",
        "outputId": "4fbfad58-ab3d-4c62-c713-a480c3dc67ab"
      },
      "source": [
        "# Calculating Accuracy of the model\n",
        "\n",
        "lg = round(accuracy_score(y_test, pred_lg)*100,2)\n",
        "print(lg)"
      ],
      "id": "65a5ed96",
      "execution_count": null,
      "outputs": [
        {
          "output_type": "stream",
          "text": [
            "78.75\n"
          ],
          "name": "stdout"
        }
      ]
    },
    {
      "cell_type": "code",
      "metadata": {
        "execution": {
          "iopub.execute_input": "2021-07-31T18:46:46.643859Z",
          "iopub.status.busy": "2021-07-31T18:46:46.643187Z",
          "iopub.status.idle": "2021-07-31T18:46:46.651744Z",
          "shell.execute_reply": "2021-07-31T18:46:46.652395Z",
          "shell.execute_reply.started": "2021-07-31T18:45:27.542654Z"
        },
        "papermill": {
          "duration": 0.307136,
          "end_time": "2021-07-31T18:46:46.652606",
          "exception": false,
          "start_time": "2021-07-31T18:46:46.345470",
          "status": "completed"
        },
        "tags": [],
        "colab": {
          "base_uri": "https://localhost:8080/"
        },
        "id": "5753c1b0",
        "outputId": "b53b2086-9a0d-4407-d0dc-a8804e3bdc99"
      },
      "source": [
        "# Classification Report\n",
        "\n",
        "print(classification_report(y_test, pred_lg))"
      ],
      "id": "5753c1b0",
      "execution_count": null,
      "outputs": [
        {
          "output_type": "stream",
          "text": [
            "              precision    recall  f1-score   support\n",
            "\n",
            "           0       0.83      0.89      0.86      1033\n",
            "           1       0.62      0.51      0.56       374\n",
            "\n",
            "    accuracy                           0.79      1407\n",
            "   macro avg       0.73      0.70      0.71      1407\n",
            "weighted avg       0.78      0.79      0.78      1407\n",
            "\n"
          ],
          "name": "stdout"
        }
      ]
    },
    {
      "cell_type": "code",
      "metadata": {
        "execution": {
          "iopub.execute_input": "2021-07-31T18:46:47.244495Z",
          "iopub.status.busy": "2021-07-31T18:46:47.243711Z",
          "iopub.status.idle": "2021-07-31T18:46:47.456009Z",
          "shell.execute_reply": "2021-07-31T18:46:47.455404Z",
          "shell.execute_reply.started": "2021-07-31T18:45:27.564196Z"
        },
        "papermill": {
          "duration": 0.506364,
          "end_time": "2021-07-31T18:46:47.456141",
          "exception": false,
          "start_time": "2021-07-31T18:46:46.949777",
          "status": "completed"
        },
        "tags": [],
        "colab": {
          "base_uri": "https://localhost:8080/",
          "height": 281
        },
        "id": "6b3c027f",
        "outputId": "fd657420-5547-434e-8656-50caff23cdb0"
      },
      "source": [
        "# confusion Matrix\n",
        "\n",
        "cm1 = confusion_matrix(y_test, pred_lg)\n",
        "sns.heatmap(cm1/np.sum(cm1), annot=True, fmt='0.2%', cmap=\"Reds\")\n",
        "plt.title(\"Logistic Regression Confusion Matrix\",fontsize=12)\n",
        "plt.show()"
      ],
      "id": "6b3c027f",
      "execution_count": null,
      "outputs": [
        {
          "output_type": "display_data",
          "data": {
            "image/png": "[encoded data removed]",
            "text/plain": [
              "<Figure size 432x288 with 2 Axes>"
            ]
          },
          "metadata": {
            "needs_background": "light"
          }
        }
      ]
    },
    {
      "cell_type": "markdown",
      "metadata": {
        "papermill": {
          "duration": 0.297493,
          "end_time": "2021-07-31T18:46:48.049966",
          "exception": false,
          "start_time": "2021-07-31T18:46:47.752473",
          "status": "completed"
        },
        "tags": [],
        "id": "c1a7ada8"
      },
      "source": [
        "### Using decision Tree Classifer"
      ],
      "id": "c1a7ada8"
    },
    {
      "cell_type": "code",
      "metadata": {
        "execution": {
          "iopub.execute_input": "2021-07-31T18:46:48.647907Z",
          "iopub.status.busy": "2021-07-31T18:46:48.647072Z",
          "iopub.status.idle": "2021-07-31T18:46:48.770666Z",
          "shell.execute_reply": "2021-07-31T18:46:48.770002Z",
          "shell.execute_reply.started": "2021-07-31T18:45:27.752480Z"
        },
        "papermill": {
          "duration": 0.421192,
          "end_time": "2021-07-31T18:46:48.770822",
          "exception": false,
          "start_time": "2021-07-31T18:46:48.349630",
          "status": "completed"
        },
        "tags": [],
        "id": "1a817d63"
      },
      "source": [
        "from sklearn.tree import DecisionTreeClassifier"
      ],
      "id": "1a817d63",
      "execution_count": null,
      "outputs": []
    },
    {
      "cell_type": "code",
      "metadata": {
        "execution": {
          "iopub.execute_input": "2021-07-31T18:46:49.366968Z",
          "iopub.status.busy": "2021-07-31T18:46:49.365507Z",
          "iopub.status.idle": "2021-07-31T18:46:49.371497Z",
          "shell.execute_reply": "2021-07-31T18:46:49.371902Z",
          "shell.execute_reply.started": "2021-07-31T18:45:27.839947Z"
        },
        "papermill": {
          "duration": 0.305165,
          "end_time": "2021-07-31T18:46:49.372049",
          "exception": false,
          "start_time": "2021-07-31T18:46:49.066884",
          "status": "completed"
        },
        "tags": [],
        "id": "6340714a"
      },
      "source": [
        "# Creating object of the model\n",
        "model_dt = DecisionTreeClassifier(max_depth=4, random_state=42)"
      ],
      "id": "6340714a",
      "execution_count": null,
      "outputs": []
    },
    {
      "cell_type": "code",
      "metadata": {
        "execution": {
          "iopub.execute_input": "2021-07-31T18:46:49.781297Z",
          "iopub.status.busy": "2021-07-31T18:46:49.780598Z",
          "iopub.status.idle": "2021-07-31T18:46:49.803357Z",
          "shell.execute_reply": "2021-07-31T18:46:49.802930Z",
          "shell.execute_reply.started": "2021-07-31T18:45:27.845834Z"
        },
        "papermill": {
          "duration": 0.236285,
          "end_time": "2021-07-31T18:46:49.803470",
          "exception": false,
          "start_time": "2021-07-31T18:46:49.567185",
          "status": "completed"
        },
        "tags": [],
        "colab": {
          "base_uri": "https://localhost:8080/"
        },
        "id": "efc019f3",
        "outputId": "61587311-eefc-402d-898b-64216baf920e"
      },
      "source": [
        "model_dt.fit(X_train, y_train)"
      ],
      "id": "efc019f3",
      "execution_count": null,
      "outputs": [
        {
          "output_type": "execute_result",
          "data": {
            "text/plain": [
              "DecisionTreeClassifier(ccp_alpha=0.0, class_weight=None, criterion='gini',\n",
              "                       max_depth=4, max_features=None, max_leaf_nodes=None,\n",
              "                       min_impurity_decrease=0.0, min_impurity_split=None,\n",
              "                       min_samples_leaf=1, min_samples_split=2,\n",
              "                       min_weight_fraction_leaf=0.0, presort='deprecated',\n",
              "                       random_state=42, splitter='best')"
            ]
          },
          "metadata": {},
          "execution_count": 391
        }
      ]
    },
    {
      "cell_type": "code",
      "metadata": {
        "execution": {
          "iopub.execute_input": "2021-07-31T18:46:50.167890Z",
          "iopub.status.busy": "2021-07-31T18:46:50.167211Z",
          "iopub.status.idle": "2021-07-31T18:46:50.171892Z",
          "shell.execute_reply": "2021-07-31T18:46:50.172297Z",
          "shell.execute_reply.started": "2021-07-31T18:45:27.877289Z"
        },
        "papermill": {
          "duration": 0.191676,
          "end_time": "2021-07-31T18:46:50.172452",
          "exception": false,
          "start_time": "2021-07-31T18:46:49.980776",
          "status": "completed"
        },
        "tags": [],
        "id": "eddd75ec"
      },
      "source": [
        "pred_dt = model_dt.predict(X_test)"
      ],
      "id": "eddd75ec",
      "execution_count": null,
      "outputs": []
    },
    {
      "cell_type": "code",
      "metadata": {
        "execution": {
          "iopub.execute_input": "2021-07-31T18:46:50.534827Z",
          "iopub.status.busy": "2021-07-31T18:46:50.534144Z",
          "iopub.status.idle": "2021-07-31T18:46:50.540568Z",
          "shell.execute_reply": "2021-07-31T18:46:50.539970Z",
          "shell.execute_reply.started": "2021-07-31T18:45:27.884947Z"
        },
        "papermill": {
          "duration": 0.189441,
          "end_time": "2021-07-31T18:46:50.540712",
          "exception": false,
          "start_time": "2021-07-31T18:46:50.351271",
          "status": "completed"
        },
        "tags": [],
        "colab": {
          "base_uri": "https://localhost:8080/"
        },
        "id": "83c3300a",
        "outputId": "c4e60522-d7b4-4989-ed2f-ae0e98fcb02c"
      },
      "source": [
        "dt  = round(accuracy_score(y_test, pred_dt)*100, 2)\n",
        "print(dt)    "
      ],
      "id": "83c3300a",
      "execution_count": null,
      "outputs": [
        {
          "output_type": "stream",
          "text": [
            "78.46\n"
          ],
          "name": "stdout"
        }
      ]
    },
    {
      "cell_type": "code",
      "metadata": {
        "execution": {
          "iopub.execute_input": "2021-07-31T18:46:51.122404Z",
          "iopub.status.busy": "2021-07-31T18:46:51.121730Z",
          "iopub.status.idle": "2021-07-31T18:46:51.131980Z",
          "shell.execute_reply": "2021-07-31T18:46:51.131371Z",
          "shell.execute_reply.started": "2021-07-31T18:45:27.899882Z"
        },
        "papermill": {
          "duration": 0.303999,
          "end_time": "2021-07-31T18:46:51.132116",
          "exception": false,
          "start_time": "2021-07-31T18:46:50.828117",
          "status": "completed"
        },
        "tags": [],
        "colab": {
          "base_uri": "https://localhost:8080/"
        },
        "id": "b9c6fc77",
        "outputId": "27a05f72-4578-49af-a884-6f688911b4dc"
      },
      "source": [
        "print(classification_report(y_test, pred_dt))"
      ],
      "id": "b9c6fc77",
      "execution_count": null,
      "outputs": [
        {
          "output_type": "stream",
          "text": [
            "              precision    recall  f1-score   support\n",
            "\n",
            "           0       0.84      0.88      0.86      1033\n",
            "           1       0.61      0.53      0.57       374\n",
            "\n",
            "    accuracy                           0.78      1407\n",
            "   macro avg       0.72      0.70      0.71      1407\n",
            "weighted avg       0.78      0.78      0.78      1407\n",
            "\n"
          ],
          "name": "stdout"
        }
      ]
    },
    {
      "cell_type": "code",
      "metadata": {
        "execution": {
          "iopub.execute_input": "2021-07-31T18:46:51.713770Z",
          "iopub.status.busy": "2021-07-31T18:46:51.713126Z",
          "iopub.status.idle": "2021-07-31T18:46:51.899388Z",
          "shell.execute_reply": "2021-07-31T18:46:51.898795Z",
          "shell.execute_reply.started": "2021-07-31T18:45:27.923089Z"
        },
        "papermill": {
          "duration": 0.478017,
          "end_time": "2021-07-31T18:46:51.899525",
          "exception": false,
          "start_time": "2021-07-31T18:46:51.421508",
          "status": "completed"
        },
        "tags": [],
        "colab": {
          "base_uri": "https://localhost:8080/",
          "height": 281
        },
        "id": "f7290e9a",
        "outputId": "b668011d-81b7-497c-988a-d7f85151c13e"
      },
      "source": [
        "# confusion Maxtrix\n",
        "cm2 = confusion_matrix(y_test, pred_dt)\n",
        "sns.heatmap(cm2/np.sum(cm2), annot = True, fmt=  '0.2%', cmap = 'Reds')\n",
        "plt.title(\"Decision Tree Classifier Confusion Matrix\",fontsize=12)\n",
        "plt.show()"
      ],
      "id": "f7290e9a",
      "execution_count": null,
      "outputs": [
        {
          "output_type": "display_data",
          "data": {
            "image/png": "[encoded data removed]",
            "text/plain": [
              "<Figure size 432x288 with 2 Axes>"
            ]
          },
          "metadata": {
            "needs_background": "light"
          }
        }
      ]
    },
    {
      "cell_type": "markdown",
      "metadata": {
        "papermill": {
          "duration": 0.29431,
          "end_time": "2021-07-31T18:46:57.369534",
          "exception": false,
          "start_time": "2021-07-31T18:46:57.075224",
          "status": "completed"
        },
        "tags": [],
        "id": "3c0c17be"
      },
      "source": [
        "### Using XGBoost Classifier"
      ],
      "id": "3c0c17be"
    },
    {
      "cell_type": "code",
      "metadata": {
        "execution": {
          "iopub.execute_input": "2021-07-31T18:46:57.960375Z",
          "iopub.status.busy": "2021-07-31T18:46:57.959695Z",
          "iopub.status.idle": "2021-07-31T18:46:58.058949Z",
          "shell.execute_reply": "2021-07-31T18:46:58.058232Z",
          "shell.execute_reply.started": "2021-07-31T18:45:29.074535Z"
        },
        "papermill": {
          "duration": 0.39509,
          "end_time": "2021-07-31T18:46:58.059084",
          "exception": false,
          "start_time": "2021-07-31T18:46:57.663994",
          "status": "completed"
        },
        "tags": [],
        "id": "2e24a3fe"
      },
      "source": [
        "from xgboost import XGBClassifier"
      ],
      "id": "2e24a3fe",
      "execution_count": null,
      "outputs": []
    },
    {
      "cell_type": "code",
      "metadata": {
        "execution": {
          "iopub.execute_input": "2021-07-31T18:46:58.651933Z",
          "iopub.status.busy": "2021-07-31T18:46:58.651196Z",
          "iopub.status.idle": "2021-07-31T18:46:58.654983Z",
          "shell.execute_reply": "2021-07-31T18:46:58.654422Z",
          "shell.execute_reply.started": "2021-07-31T18:45:29.157042Z"
        },
        "papermill": {
          "duration": 0.301618,
          "end_time": "2021-07-31T18:46:58.655119",
          "exception": false,
          "start_time": "2021-07-31T18:46:58.353501",
          "status": "completed"
        },
        "tags": [],
        "id": "e2b28d59"
      },
      "source": [
        "# Creating model object\n",
        "model_xgb = XGBClassifier(max_depth= 8, n_estimators= 125, random_state= 0,  learning_rate= 0.03, n_jobs=5)"
      ],
      "id": "e2b28d59",
      "execution_count": null,
      "outputs": []
    },
    {
      "cell_type": "code",
      "metadata": {
        "execution": {
          "iopub.execute_input": "2021-07-31T18:46:59.250312Z",
          "iopub.status.busy": "2021-07-31T18:46:59.249614Z",
          "iopub.status.idle": "2021-07-31T18:47:00.751461Z",
          "shell.execute_reply": "2021-07-31T18:47:00.750751Z",
          "shell.execute_reply.started": "2021-07-31T18:45:29.161900Z"
        },
        "papermill": {
          "duration": 1.800758,
          "end_time": "2021-07-31T18:47:00.751603",
          "exception": false,
          "start_time": "2021-07-31T18:46:58.950845",
          "status": "completed"
        },
        "tags": [],
        "colab": {
          "base_uri": "https://localhost:8080/"
        },
        "id": "9de176d5",
        "outputId": "e7285617-11f2-4490-c557-25d44e1b7a8f"
      },
      "source": [
        "# Training Model\n",
        "model_xgb.fit(X_train, y_train)"
      ],
      "id": "9de176d5",
      "execution_count": null,
      "outputs": [
        {
          "output_type": "execute_result",
          "data": {
            "text/plain": [
              "XGBClassifier(base_score=0.5, booster='gbtree', colsample_bylevel=1,\n",
              "              colsample_bynode=1, colsample_bytree=1, gamma=0,\n",
              "              learning_rate=0.03, max_delta_step=0, max_depth=8,\n",
              "              min_child_weight=1, missing=None, n_estimators=125, n_jobs=5,\n",
              "              nthread=None, objective='binary:logistic', random_state=0,\n",
              "              reg_alpha=0, reg_lambda=1, scale_pos_weight=1, seed=None,\n",
              "              silent=None, subsample=1, verbosity=1)"
            ]
          },
          "metadata": {},
          "execution_count": 398
        }
      ]
    },
    {
      "cell_type": "code",
      "metadata": {
        "execution": {
          "iopub.execute_input": "2021-07-31T18:47:01.345982Z",
          "iopub.status.busy": "2021-07-31T18:47:01.342348Z",
          "iopub.status.idle": "2021-07-31T18:47:01.355872Z",
          "shell.execute_reply": "2021-07-31T18:47:01.356479Z",
          "shell.execute_reply.started": "2021-07-31T18:45:30.510400Z"
        },
        "papermill": {
          "duration": 0.31109,
          "end_time": "2021-07-31T18:47:01.356661",
          "exception": false,
          "start_time": "2021-07-31T18:47:01.045571",
          "status": "completed"
        },
        "tags": [],
        "id": "fa822928"
      },
      "source": [
        "# Making Prediction\n",
        "pred_xgb = model_xgb.predict(X_test)"
      ],
      "id": "fa822928",
      "execution_count": null,
      "outputs": []
    },
    {
      "cell_type": "code",
      "metadata": {
        "execution": {
          "iopub.execute_input": "2021-07-31T18:47:01.952976Z",
          "iopub.status.busy": "2021-07-31T18:47:01.951330Z",
          "iopub.status.idle": "2021-07-31T18:47:01.958286Z",
          "shell.execute_reply": "2021-07-31T18:47:01.957844Z",
          "shell.execute_reply.started": "2021-07-31T18:45:30.524457Z"
        },
        "papermill": {
          "duration": 0.308852,
          "end_time": "2021-07-31T18:47:01.958417",
          "exception": false,
          "start_time": "2021-07-31T18:47:01.649565",
          "status": "completed"
        },
        "tags": [],
        "colab": {
          "base_uri": "https://localhost:8080/"
        },
        "id": "3b2440c9",
        "outputId": "3478f1e6-8c0e-4fd7-fec9-9f4f3ad6565b"
      },
      "source": [
        "# Calculating Accuracy Score\n",
        "xgb = round(accuracy_score(y_test, pred_xgb)*100, 2)\n",
        "print(xgb)"
      ],
      "id": "3b2440c9",
      "execution_count": null,
      "outputs": [
        {
          "output_type": "stream",
          "text": [
            "78.68\n"
          ],
          "name": "stdout"
        }
      ]
    },
    {
      "cell_type": "code",
      "metadata": {
        "execution": {
          "iopub.execute_input": "2021-07-31T18:47:02.331337Z",
          "iopub.status.busy": "2021-07-31T18:47:02.330412Z",
          "iopub.status.idle": "2021-07-31T18:47:02.341054Z",
          "shell.execute_reply": "2021-07-31T18:47:02.340487Z",
          "shell.execute_reply.started": "2021-07-31T18:45:30.533108Z"
        },
        "papermill": {
          "duration": 0.196881,
          "end_time": "2021-07-31T18:47:02.341190",
          "exception": false,
          "start_time": "2021-07-31T18:47:02.144309",
          "status": "completed"
        },
        "tags": [],
        "colab": {
          "base_uri": "https://localhost:8080/"
        },
        "id": "095ff65d",
        "outputId": "9749d366-2ea8-4a19-9b2c-31014318a0a0"
      },
      "source": [
        "print(classification_report(y_test,pred_xgb))"
      ],
      "id": "095ff65d",
      "execution_count": null,
      "outputs": [
        {
          "output_type": "stream",
          "text": [
            "              precision    recall  f1-score   support\n",
            "\n",
            "           0       0.83      0.89      0.86      1033\n",
            "           1       0.62      0.51      0.56       374\n",
            "\n",
            "    accuracy                           0.79      1407\n",
            "   macro avg       0.73      0.70      0.71      1407\n",
            "weighted avg       0.78      0.79      0.78      1407\n",
            "\n"
          ],
          "name": "stdout"
        }
      ]
    },
    {
      "cell_type": "code",
      "metadata": {
        "execution": {
          "iopub.execute_input": "2021-07-31T18:47:02.943703Z",
          "iopub.status.busy": "2021-07-31T18:47:02.943032Z",
          "iopub.status.idle": "2021-07-31T18:47:03.150133Z",
          "shell.execute_reply": "2021-07-31T18:47:03.149538Z",
          "shell.execute_reply.started": "2021-07-31T18:45:30.550404Z"
        },
        "papermill": {
          "duration": 0.509922,
          "end_time": "2021-07-31T18:47:03.150309",
          "exception": false,
          "start_time": "2021-07-31T18:47:02.640387",
          "status": "completed"
        },
        "tags": [],
        "colab": {
          "base_uri": "https://localhost:8080/",
          "height": 281
        },
        "id": "fc04961a",
        "outputId": "cb5f5223-1018-44b3-80a3-69f99e45bc2f"
      },
      "source": [
        "# confusion Maxtrix\n",
        "cm4 = confusion_matrix(y_test, pred_xgb)\n",
        "sns.heatmap(cm4/np.sum(cm4), annot = True, fmt=  '0.2%', cmap = 'Reds')\n",
        "plt.title(\"XGBoost Classifier Confusion Matrix\",fontsize=12)\n",
        "plt.show()"
      ],
      "id": "fc04961a",
      "execution_count": null,
      "outputs": [
        {
          "output_type": "display_data",
          "data": {
            "image/png": "[encoded data removed]",
            "text/plain": [
              "<Figure size 432x288 with 2 Axes>"
            ]
          },
          "metadata": {
            "needs_background": "light"
          }
        }
      ]
    },
    {
      "cell_type": "markdown",
      "metadata": {
        "papermill": {
          "duration": 0.294448,
          "end_time": "2021-07-31T18:47:03.743662",
          "exception": false,
          "start_time": "2021-07-31T18:47:03.449214",
          "status": "completed"
        },
        "tags": [],
        "id": "f99ee036"
      },
      "source": [
        "### Using KNeighbours"
      ],
      "id": "f99ee036"
    },
    {
      "cell_type": "code",
      "metadata": {
        "execution": {
          "iopub.execute_input": "2021-07-31T18:47:04.403550Z",
          "iopub.status.busy": "2021-07-31T18:47:04.402901Z",
          "iopub.status.idle": "2021-07-31T18:47:04.406776Z",
          "shell.execute_reply": "2021-07-31T18:47:04.406210Z",
          "shell.execute_reply.started": "2021-07-31T18:45:30.718256Z"
        },
        "papermill": {
          "duration": 0.301758,
          "end_time": "2021-07-31T18:47:04.406893",
          "exception": false,
          "start_time": "2021-07-31T18:47:04.105135",
          "status": "completed"
        },
        "tags": [],
        "id": "3e7406af"
      },
      "source": [
        "from sklearn.neighbors import KNeighborsClassifier"
      ],
      "id": "3e7406af",
      "execution_count": null,
      "outputs": []
    },
    {
      "cell_type": "code",
      "metadata": {
        "execution": {
          "iopub.execute_input": "2021-07-31T18:47:04.995082Z",
          "iopub.status.busy": "2021-07-31T18:47:04.994485Z",
          "iopub.status.idle": "2021-07-31T18:47:04.997956Z",
          "shell.execute_reply": "2021-07-31T18:47:04.997353Z",
          "shell.execute_reply.started": "2021-07-31T18:45:30.725111Z"
        },
        "papermill": {
          "duration": 0.301213,
          "end_time": "2021-07-31T18:47:04.998084",
          "exception": false,
          "start_time": "2021-07-31T18:47:04.696871",
          "status": "completed"
        },
        "tags": [],
        "id": "74aab18a"
      },
      "source": [
        "# Creating model object\n",
        "model_kn = KNeighborsClassifier(n_neighbors=9, leaf_size=20)"
      ],
      "id": "74aab18a",
      "execution_count": null,
      "outputs": []
    },
    {
      "cell_type": "code",
      "metadata": {
        "execution": {
          "iopub.execute_input": "2021-07-31T18:47:05.598731Z",
          "iopub.status.busy": "2021-07-31T18:47:05.597968Z",
          "iopub.status.idle": "2021-07-31T18:47:05.653181Z",
          "shell.execute_reply": "2021-07-31T18:47:05.652517Z",
          "shell.execute_reply.started": "2021-07-31T18:45:30.736849Z"
        },
        "papermill": {
          "duration": 0.358507,
          "end_time": "2021-07-31T18:47:05.653340",
          "exception": false,
          "start_time": "2021-07-31T18:47:05.294833",
          "status": "completed"
        },
        "tags": [],
        "colab": {
          "base_uri": "https://localhost:8080/"
        },
        "id": "6bfe599b",
        "outputId": "be179c06-d212-4aa6-9f26-ed3d05a3cb8b"
      },
      "source": [
        "# Training Model\n",
        "model_kn.fit(X_train, y_train)"
      ],
      "id": "6bfe599b",
      "execution_count": null,
      "outputs": [
        {
          "output_type": "execute_result",
          "data": {
            "text/plain": [
              "KNeighborsClassifier(algorithm='auto', leaf_size=20, metric='minkowski',\n",
              "                     metric_params=None, n_jobs=None, n_neighbors=9, p=2,\n",
              "                     weights='uniform')"
            ]
          },
          "metadata": {},
          "execution_count": 405
        }
      ]
    },
    {
      "cell_type": "code",
      "metadata": {
        "execution": {
          "iopub.execute_input": "2021-07-31T18:47:06.251334Z",
          "iopub.status.busy": "2021-07-31T18:47:06.250526Z",
          "iopub.status.idle": "2021-07-31T18:47:06.660676Z",
          "shell.execute_reply": "2021-07-31T18:47:06.660051Z",
          "shell.execute_reply.started": "2021-07-31T18:45:30.775784Z"
        },
        "papermill": {
          "duration": 0.712824,
          "end_time": "2021-07-31T18:47:06.660809",
          "exception": false,
          "start_time": "2021-07-31T18:47:05.947985",
          "status": "completed"
        },
        "tags": [],
        "id": "46fb7d58"
      },
      "source": [
        "# Making Prediction\n",
        "pred_kn = model_kn.predict(X_test)"
      ],
      "id": "46fb7d58",
      "execution_count": null,
      "outputs": []
    },
    {
      "cell_type": "code",
      "metadata": {
        "execution": {
          "iopub.execute_input": "2021-07-31T18:47:07.262094Z",
          "iopub.status.busy": "2021-07-31T18:47:07.261413Z",
          "iopub.status.idle": "2021-07-31T18:47:07.266024Z",
          "shell.execute_reply": "2021-07-31T18:47:07.265511Z",
          "shell.execute_reply.started": "2021-07-31T18:45:31.192402Z"
        },
        "papermill": {
          "duration": 0.308645,
          "end_time": "2021-07-31T18:47:07.266143",
          "exception": false,
          "start_time": "2021-07-31T18:47:06.957498",
          "status": "completed"
        },
        "tags": [],
        "colab": {
          "base_uri": "https://localhost:8080/"
        },
        "id": "2a942595",
        "outputId": "7af5624e-3c5c-4e12-ee37-044a53d07499"
      },
      "source": [
        "# Calculating Accuracy Score\n",
        "kn = round(accuracy_score(y_test, pred_kn)*100, 2)\n",
        "print(kn)"
      ],
      "id": "2a942595",
      "execution_count": null,
      "outputs": [
        {
          "output_type": "stream",
          "text": [
            "74.91\n"
          ],
          "name": "stdout"
        }
      ]
    },
    {
      "cell_type": "code",
      "metadata": {
        "execution": {
          "iopub.execute_input": "2021-07-31T18:47:07.633338Z",
          "iopub.status.busy": "2021-07-31T18:47:07.632823Z",
          "iopub.status.idle": "2021-07-31T18:47:07.645735Z",
          "shell.execute_reply": "2021-07-31T18:47:07.645299Z",
          "shell.execute_reply.started": "2021-07-31T18:45:31.199075Z"
        },
        "papermill": {
          "duration": 0.198401,
          "end_time": "2021-07-31T18:47:07.645846",
          "exception": false,
          "start_time": "2021-07-31T18:47:07.447445",
          "status": "completed"
        },
        "tags": [],
        "colab": {
          "base_uri": "https://localhost:8080/"
        },
        "id": "30033dc6",
        "outputId": "f0d3f235-7087-49ea-9c4b-bcbda8157fc2"
      },
      "source": [
        "print(classification_report(y_test,pred_kn))"
      ],
      "id": "30033dc6",
      "execution_count": null,
      "outputs": [
        {
          "output_type": "stream",
          "text": [
            "              precision    recall  f1-score   support\n",
            "\n",
            "           0       0.83      0.83      0.83      1033\n",
            "           1       0.53      0.52      0.52       374\n",
            "\n",
            "    accuracy                           0.75      1407\n",
            "   macro avg       0.68      0.67      0.68      1407\n",
            "weighted avg       0.75      0.75      0.75      1407\n",
            "\n"
          ],
          "name": "stdout"
        }
      ]
    },
    {
      "cell_type": "code",
      "metadata": {
        "execution": {
          "iopub.execute_input": "2021-07-31T18:47:08.016787Z",
          "iopub.status.busy": "2021-07-31T18:47:08.016061Z",
          "iopub.status.idle": "2021-07-31T18:47:08.218027Z",
          "shell.execute_reply": "2021-07-31T18:47:08.218686Z",
          "shell.execute_reply.started": "2021-07-31T18:45:31.218215Z"
        },
        "papermill": {
          "duration": 0.390682,
          "end_time": "2021-07-31T18:47:08.218852",
          "exception": false,
          "start_time": "2021-07-31T18:47:07.828170",
          "status": "completed"
        },
        "tags": [],
        "colab": {
          "base_uri": "https://localhost:8080/",
          "height": 281
        },
        "id": "e480f425",
        "outputId": "d6428635-3e35-4093-95f0-c553ece4f020"
      },
      "source": [
        "# confusion Maxtrix\n",
        "cm5 = confusion_matrix(y_test, pred_kn)\n",
        "sns.heatmap(cm5/np.sum(cm5), annot = True, fmt=  '0.2%', cmap = 'Reds')\n",
        "plt.title(\"KN Classifier Confusion Matrix\",fontsize=12)\n",
        "plt.show()"
      ],
      "id": "e480f425",
      "execution_count": null,
      "outputs": [
        {
          "output_type": "display_data",
          "data": {
            "image/png": "[encoded data removed]",
            "text/plain": [
              "<Figure size 432x288 with 2 Axes>"
            ]
          },
          "metadata": {
            "needs_background": "light"
          }
        }
      ]
    },
    {
      "cell_type": "markdown",
      "metadata": {
        "papermill": {
          "duration": 0.298177,
          "end_time": "2021-07-31T18:47:08.811789",
          "exception": false,
          "start_time": "2021-07-31T18:47:08.513612",
          "status": "completed"
        },
        "tags": [],
        "id": "1bc270ca"
      },
      "source": [
        "###  Using SVM"
      ],
      "id": "1bc270ca"
    },
    {
      "cell_type": "code",
      "metadata": {
        "execution": {
          "iopub.execute_input": "2021-07-31T18:47:09.410956Z",
          "iopub.status.busy": "2021-07-31T18:47:09.410252Z",
          "iopub.status.idle": "2021-07-31T18:47:09.414059Z",
          "shell.execute_reply": "2021-07-31T18:47:09.413471Z",
          "shell.execute_reply.started": "2021-07-31T18:45:31.394407Z"
        },
        "papermill": {
          "duration": 0.304252,
          "end_time": "2021-07-31T18:47:09.414201",
          "exception": false,
          "start_time": "2021-07-31T18:47:09.109949",
          "status": "completed"
        },
        "tags": [],
        "id": "8ec9677a"
      },
      "source": [
        "from sklearn.svm import SVC, LinearSVC"
      ],
      "id": "8ec9677a",
      "execution_count": null,
      "outputs": []
    },
    {
      "cell_type": "code",
      "metadata": {
        "execution": {
          "iopub.execute_input": "2021-07-31T18:47:10.013570Z",
          "iopub.status.busy": "2021-07-31T18:47:10.012812Z",
          "iopub.status.idle": "2021-07-31T18:47:10.015216Z",
          "shell.execute_reply": "2021-07-31T18:47:10.014744Z",
          "shell.execute_reply.started": "2021-07-31T18:45:31.399409Z"
        },
        "papermill": {
          "duration": 0.302823,
          "end_time": "2021-07-31T18:47:10.015377",
          "exception": false,
          "start_time": "2021-07-31T18:47:09.712554",
          "status": "completed"
        },
        "tags": [],
        "id": "0516b395"
      },
      "source": [
        "model_svm = SVC(kernel='rbf', random_state = 42)"
      ],
      "id": "0516b395",
      "execution_count": null,
      "outputs": []
    },
    {
      "cell_type": "code",
      "metadata": {
        "execution": {
          "iopub.execute_input": "2021-07-31T18:47:10.389416Z",
          "iopub.status.busy": "2021-07-31T18:47:10.388742Z",
          "iopub.status.idle": "2021-07-31T18:47:11.626750Z",
          "shell.execute_reply": "2021-07-31T18:47:11.627116Z",
          "shell.execute_reply.started": "2021-07-31T18:45:31.413657Z"
        },
        "papermill": {
          "duration": 1.428268,
          "end_time": "2021-07-31T18:47:11.627280",
          "exception": false,
          "start_time": "2021-07-31T18:47:10.199012",
          "status": "completed"
        },
        "tags": [],
        "colab": {
          "base_uri": "https://localhost:8080/"
        },
        "id": "8a4f5196",
        "outputId": "e373ca96-1c77-4c68-cca4-c995393caa10"
      },
      "source": [
        "model_svm.fit(X_train, y_train)"
      ],
      "id": "8a4f5196",
      "execution_count": null,
      "outputs": [
        {
          "output_type": "execute_result",
          "data": {
            "text/plain": [
              "SVC(C=1.0, break_ties=False, cache_size=200, class_weight=None, coef0=0.0,\n",
              "    decision_function_shape='ovr', degree=3, gamma='scale', kernel='rbf',\n",
              "    max_iter=-1, probability=False, random_state=42, shrinking=True, tol=0.001,\n",
              "    verbose=False)"
            ]
          },
          "metadata": {},
          "execution_count": 412
        }
      ]
    },
    {
      "cell_type": "code",
      "metadata": {
        "execution": {
          "iopub.execute_input": "2021-07-31T18:47:11.998354Z",
          "iopub.status.busy": "2021-07-31T18:47:11.997753Z",
          "iopub.status.idle": "2021-07-31T18:47:12.489391Z",
          "shell.execute_reply": "2021-07-31T18:47:12.488843Z",
          "shell.execute_reply.started": "2021-07-31T18:45:32.470802Z"
        },
        "papermill": {
          "duration": 0.679496,
          "end_time": "2021-07-31T18:47:12.489503",
          "exception": false,
          "start_time": "2021-07-31T18:47:11.810007",
          "status": "completed"
        },
        "tags": [],
        "id": "24ae6dd4"
      },
      "source": [
        "# Making Prediction\n",
        "pred_svm = model_svm.predict(X_test)"
      ],
      "id": "24ae6dd4",
      "execution_count": null,
      "outputs": []
    },
    {
      "cell_type": "code",
      "metadata": {
        "execution": {
          "iopub.execute_input": "2021-07-31T18:47:12.864595Z",
          "iopub.status.busy": "2021-07-31T18:47:12.863930Z",
          "iopub.status.idle": "2021-07-31T18:47:12.868899Z",
          "shell.execute_reply": "2021-07-31T18:47:12.869433Z",
          "shell.execute_reply.started": "2021-07-31T18:45:32.696983Z"
        },
        "papermill": {
          "duration": 0.192479,
          "end_time": "2021-07-31T18:47:12.869632",
          "exception": false,
          "start_time": "2021-07-31T18:47:12.677153",
          "status": "completed"
        },
        "tags": [],
        "colab": {
          "base_uri": "https://localhost:8080/"
        },
        "id": "352a79c5",
        "outputId": "2f783cdd-ee62-41f8-f624-2d31e33701ef"
      },
      "source": [
        "# Calculating Accuracy Score\n",
        "sv = round(accuracy_score(y_test, pred_svm)*100, 2)\n",
        "print(sv)"
      ],
      "id": "352a79c5",
      "execution_count": null,
      "outputs": [
        {
          "output_type": "stream",
          "text": [
            "78.39\n"
          ],
          "name": "stdout"
        }
      ]
    },
    {
      "cell_type": "code",
      "metadata": {
        "execution": {
          "iopub.execute_input": "2021-07-31T18:47:13.470471Z",
          "iopub.status.busy": "2021-07-31T18:47:13.469732Z",
          "iopub.status.idle": "2021-07-31T18:47:13.479223Z",
          "shell.execute_reply": "2021-07-31T18:47:13.479774Z",
          "shell.execute_reply.started": "2021-07-31T18:45:32.710401Z"
        },
        "papermill": {
          "duration": 0.311937,
          "end_time": "2021-07-31T18:47:13.479952",
          "exception": false,
          "start_time": "2021-07-31T18:47:13.168015",
          "status": "completed"
        },
        "tags": [],
        "colab": {
          "base_uri": "https://localhost:8080/"
        },
        "id": "78f25d30",
        "outputId": "a40c5866-343c-47fb-f119-20972737fd09"
      },
      "source": [
        "print(classification_report(y_test,pred_kn))"
      ],
      "id": "78f25d30",
      "execution_count": null,
      "outputs": [
        {
          "output_type": "stream",
          "text": [
            "              precision    recall  f1-score   support\n",
            "\n",
            "           0       0.83      0.83      0.83      1033\n",
            "           1       0.53      0.52      0.52       374\n",
            "\n",
            "    accuracy                           0.75      1407\n",
            "   macro avg       0.68      0.67      0.68      1407\n",
            "weighted avg       0.75      0.75      0.75      1407\n",
            "\n"
          ],
          "name": "stdout"
        }
      ]
    },
    {
      "cell_type": "code",
      "metadata": {
        "execution": {
          "iopub.execute_input": "2021-07-31T18:47:14.080073Z",
          "iopub.status.busy": "2021-07-31T18:47:14.079410Z",
          "iopub.status.idle": "2021-07-31T18:47:14.238034Z",
          "shell.execute_reply": "2021-07-31T18:47:14.238629Z",
          "shell.execute_reply.started": "2021-07-31T18:45:32.727386Z"
        },
        "papermill": {
          "duration": 0.463369,
          "end_time": "2021-07-31T18:47:14.238815",
          "exception": false,
          "start_time": "2021-07-31T18:47:13.775446",
          "status": "completed"
        },
        "tags": [],
        "colab": {
          "base_uri": "https://localhost:8080/",
          "height": 281
        },
        "id": "c1806b42",
        "outputId": "62c237c1-b25d-49c6-efe5-a2e53b219559"
      },
      "source": [
        "# confusion Maxtrix\n",
        "cm6 = confusion_matrix(y_test, pred_svm)\n",
        "sns.heatmap(cm6/np.sum(cm6), annot = True, fmt=  '0.2%', cmap = 'Reds')\n",
        "plt.title(\"SVM Classifier Confusion Matrix\",fontsize=12)\n",
        "plt.show()"
      ],
      "id": "c1806b42",
      "execution_count": null,
      "outputs": [
        {
          "output_type": "display_data",
          "data": {
            "image/png": "[encoded data removed]",
            "text/plain": [
              "<Figure size 432x288 with 2 Axes>"
            ]
          },
          "metadata": {
            "needs_background": "light"
          }
        }
      ]
    }
  ]
}